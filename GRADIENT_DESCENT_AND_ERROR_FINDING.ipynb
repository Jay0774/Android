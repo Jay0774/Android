{
  "nbformat": 4,
  "nbformat_minor": 0,
  "metadata": {
    "colab": {
      "name": "BostonHousingdata.ipynb",
      "provenance": [],
      "authorship_tag": "ABX9TyO6QlMjkEkHLPjHLbRkE9KM",
      "include_colab_link": true
    },
    "kernelspec": {
      "name": "python3",
      "display_name": "Python 3"
    }
  },
  "cells": [
    {
      "cell_type": "markdown",
      "metadata": {
        "id": "view-in-github",
        "colab_type": "text"
      },
      "source": [
        "<a href=\"https://colab.research.google.com/github/Jay0774/Android/blob/master/GRADIENT_DESCENT_AND_ERROR_FINDING.ipynb\" target=\"_parent\"><img src=\"https://colab.research.google.com/assets/colab-badge.svg\" alt=\"Open In Colab\"/></a>"
      ]
    },
    {
      "cell_type": "markdown",
      "metadata": {
        "id": "YLbxaOhjuGN4",
        "colab_type": "text"
      },
      "source": [
        "# STEP 1 : RELATED TO DATA GATHERING AND DATA VISUALIZATION\n"
      ]
    },
    {
      "cell_type": "code",
      "metadata": {
        "id": "vqbQhi4ZHFur",
        "colab_type": "code",
        "colab": {}
      },
      "source": [
        "import numpy as np # muli dimensional array \n",
        "import pandas as  pd # load data in data frame object\n",
        "import matplotlib as mlp\n",
        "import matplotlib.pyplot as plt \n",
        "from matplotlib.animation import FuncAnimation # animations \n",
        "\n",
        "# all required libraries from sklearn\n",
        "from sklearn.datasets import load_boston\n",
        "from sklearn.metrics import mean_squared_error\n",
        "from sklearn.model_selection import train_test_split\n",
        "from sklearn.preprocessing import MinMaxScaler\n",
        "\n",
        "from IPython.display import HTML # for display"
      ],
      "execution_count": 0,
      "outputs": []
    },
    {
      "cell_type": "code",
      "metadata": {
        "id": "Wj71tCVpKUcy",
        "colab_type": "code",
        "outputId": "7ea38506-2833-40ef-806a-d446d6f9d34b",
        "colab": {
          "base_uri": "https://localhost:8080/",
          "height": 1000
        }
      },
      "source": [
        "# first we need to get data \n",
        "\n",
        "boston = load_boston()\n",
        "boston\n",
        "\n",
        "# after getting data we need to do preprocessing"
      ],
      "execution_count": 107,
      "outputs": [
        {
          "output_type": "execute_result",
          "data": {
            "text/plain": [
              "{'DESCR': \".. _boston_dataset:\\n\\nBoston house prices dataset\\n---------------------------\\n\\n**Data Set Characteristics:**  \\n\\n    :Number of Instances: 506 \\n\\n    :Number of Attributes: 13 numeric/categorical predictive. Median Value (attribute 14) is usually the target.\\n\\n    :Attribute Information (in order):\\n        - CRIM     per capita crime rate by town\\n        - ZN       proportion of residential land zoned for lots over 25,000 sq.ft.\\n        - INDUS    proportion of non-retail business acres per town\\n        - CHAS     Charles River dummy variable (= 1 if tract bounds river; 0 otherwise)\\n        - NOX      nitric oxides concentration (parts per 10 million)\\n        - RM       average number of rooms per dwelling\\n        - AGE      proportion of owner-occupied units built prior to 1940\\n        - DIS      weighted distances to five Boston employment centres\\n        - RAD      index of accessibility to radial highways\\n        - TAX      full-value property-tax rate per $10,000\\n        - PTRATIO  pupil-teacher ratio by town\\n        - B        1000(Bk - 0.63)^2 where Bk is the proportion of blacks by town\\n        - LSTAT    % lower status of the population\\n        - MEDV     Median value of owner-occupied homes in $1000's\\n\\n    :Missing Attribute Values: None\\n\\n    :Creator: Harrison, D. and Rubinfeld, D.L.\\n\\nThis is a copy of UCI ML housing dataset.\\nhttps://archive.ics.uci.edu/ml/machine-learning-databases/housing/\\n\\n\\nThis dataset was taken from the StatLib library which is maintained at Carnegie Mellon University.\\n\\nThe Boston house-price data of Harrison, D. and Rubinfeld, D.L. 'Hedonic\\nprices and the demand for clean air', J. Environ. Economics & Management,\\nvol.5, 81-102, 1978.   Used in Belsley, Kuh & Welsch, 'Regression diagnostics\\n...', Wiley, 1980.   N.B. Various transformations are used in the table on\\npages 244-261 of the latter.\\n\\nThe Boston house-price data has been used in many machine learning papers that address regression\\nproblems.   \\n     \\n.. topic:: References\\n\\n   - Belsley, Kuh & Welsch, 'Regression diagnostics: Identifying Influential Data and Sources of Collinearity', Wiley, 1980. 244-261.\\n   - Quinlan,R. (1993). Combining Instance-Based and Model-Based Learning. In Proceedings on the Tenth International Conference of Machine Learning, 236-243, University of Massachusetts, Amherst. Morgan Kaufmann.\\n\",\n",
              " 'data': array([[6.3200e-03, 1.8000e+01, 2.3100e+00, ..., 1.5300e+01, 3.9690e+02,\n",
              "         4.9800e+00],\n",
              "        [2.7310e-02, 0.0000e+00, 7.0700e+00, ..., 1.7800e+01, 3.9690e+02,\n",
              "         9.1400e+00],\n",
              "        [2.7290e-02, 0.0000e+00, 7.0700e+00, ..., 1.7800e+01, 3.9283e+02,\n",
              "         4.0300e+00],\n",
              "        ...,\n",
              "        [6.0760e-02, 0.0000e+00, 1.1930e+01, ..., 2.1000e+01, 3.9690e+02,\n",
              "         5.6400e+00],\n",
              "        [1.0959e-01, 0.0000e+00, 1.1930e+01, ..., 2.1000e+01, 3.9345e+02,\n",
              "         6.4800e+00],\n",
              "        [4.7410e-02, 0.0000e+00, 1.1930e+01, ..., 2.1000e+01, 3.9690e+02,\n",
              "         7.8800e+00]]),\n",
              " 'feature_names': array(['CRIM', 'ZN', 'INDUS', 'CHAS', 'NOX', 'RM', 'AGE', 'DIS', 'RAD',\n",
              "        'TAX', 'PTRATIO', 'B', 'LSTAT'], dtype='<U7'),\n",
              " 'filename': '/usr/local/lib/python3.6/dist-packages/sklearn/datasets/data/boston_house_prices.csv',\n",
              " 'target': array([24. , 21.6, 34.7, 33.4, 36.2, 28.7, 22.9, 27.1, 16.5, 18.9, 15. ,\n",
              "        18.9, 21.7, 20.4, 18.2, 19.9, 23.1, 17.5, 20.2, 18.2, 13.6, 19.6,\n",
              "        15.2, 14.5, 15.6, 13.9, 16.6, 14.8, 18.4, 21. , 12.7, 14.5, 13.2,\n",
              "        13.1, 13.5, 18.9, 20. , 21. , 24.7, 30.8, 34.9, 26.6, 25.3, 24.7,\n",
              "        21.2, 19.3, 20. , 16.6, 14.4, 19.4, 19.7, 20.5, 25. , 23.4, 18.9,\n",
              "        35.4, 24.7, 31.6, 23.3, 19.6, 18.7, 16. , 22.2, 25. , 33. , 23.5,\n",
              "        19.4, 22. , 17.4, 20.9, 24.2, 21.7, 22.8, 23.4, 24.1, 21.4, 20. ,\n",
              "        20.8, 21.2, 20.3, 28. , 23.9, 24.8, 22.9, 23.9, 26.6, 22.5, 22.2,\n",
              "        23.6, 28.7, 22.6, 22. , 22.9, 25. , 20.6, 28.4, 21.4, 38.7, 43.8,\n",
              "        33.2, 27.5, 26.5, 18.6, 19.3, 20.1, 19.5, 19.5, 20.4, 19.8, 19.4,\n",
              "        21.7, 22.8, 18.8, 18.7, 18.5, 18.3, 21.2, 19.2, 20.4, 19.3, 22. ,\n",
              "        20.3, 20.5, 17.3, 18.8, 21.4, 15.7, 16.2, 18. , 14.3, 19.2, 19.6,\n",
              "        23. , 18.4, 15.6, 18.1, 17.4, 17.1, 13.3, 17.8, 14. , 14.4, 13.4,\n",
              "        15.6, 11.8, 13.8, 15.6, 14.6, 17.8, 15.4, 21.5, 19.6, 15.3, 19.4,\n",
              "        17. , 15.6, 13.1, 41.3, 24.3, 23.3, 27. , 50. , 50. , 50. , 22.7,\n",
              "        25. , 50. , 23.8, 23.8, 22.3, 17.4, 19.1, 23.1, 23.6, 22.6, 29.4,\n",
              "        23.2, 24.6, 29.9, 37.2, 39.8, 36.2, 37.9, 32.5, 26.4, 29.6, 50. ,\n",
              "        32. , 29.8, 34.9, 37. , 30.5, 36.4, 31.1, 29.1, 50. , 33.3, 30.3,\n",
              "        34.6, 34.9, 32.9, 24.1, 42.3, 48.5, 50. , 22.6, 24.4, 22.5, 24.4,\n",
              "        20. , 21.7, 19.3, 22.4, 28.1, 23.7, 25. , 23.3, 28.7, 21.5, 23. ,\n",
              "        26.7, 21.7, 27.5, 30.1, 44.8, 50. , 37.6, 31.6, 46.7, 31.5, 24.3,\n",
              "        31.7, 41.7, 48.3, 29. , 24. , 25.1, 31.5, 23.7, 23.3, 22. , 20.1,\n",
              "        22.2, 23.7, 17.6, 18.5, 24.3, 20.5, 24.5, 26.2, 24.4, 24.8, 29.6,\n",
              "        42.8, 21.9, 20.9, 44. , 50. , 36. , 30.1, 33.8, 43.1, 48.8, 31. ,\n",
              "        36.5, 22.8, 30.7, 50. , 43.5, 20.7, 21.1, 25.2, 24.4, 35.2, 32.4,\n",
              "        32. , 33.2, 33.1, 29.1, 35.1, 45.4, 35.4, 46. , 50. , 32.2, 22. ,\n",
              "        20.1, 23.2, 22.3, 24.8, 28.5, 37.3, 27.9, 23.9, 21.7, 28.6, 27.1,\n",
              "        20.3, 22.5, 29. , 24.8, 22. , 26.4, 33.1, 36.1, 28.4, 33.4, 28.2,\n",
              "        22.8, 20.3, 16.1, 22.1, 19.4, 21.6, 23.8, 16.2, 17.8, 19.8, 23.1,\n",
              "        21. , 23.8, 23.1, 20.4, 18.5, 25. , 24.6, 23. , 22.2, 19.3, 22.6,\n",
              "        19.8, 17.1, 19.4, 22.2, 20.7, 21.1, 19.5, 18.5, 20.6, 19. , 18.7,\n",
              "        32.7, 16.5, 23.9, 31.2, 17.5, 17.2, 23.1, 24.5, 26.6, 22.9, 24.1,\n",
              "        18.6, 30.1, 18.2, 20.6, 17.8, 21.7, 22.7, 22.6, 25. , 19.9, 20.8,\n",
              "        16.8, 21.9, 27.5, 21.9, 23.1, 50. , 50. , 50. , 50. , 50. , 13.8,\n",
              "        13.8, 15. , 13.9, 13.3, 13.1, 10.2, 10.4, 10.9, 11.3, 12.3,  8.8,\n",
              "         7.2, 10.5,  7.4, 10.2, 11.5, 15.1, 23.2,  9.7, 13.8, 12.7, 13.1,\n",
              "        12.5,  8.5,  5. ,  6.3,  5.6,  7.2, 12.1,  8.3,  8.5,  5. , 11.9,\n",
              "        27.9, 17.2, 27.5, 15. , 17.2, 17.9, 16.3,  7. ,  7.2,  7.5, 10.4,\n",
              "         8.8,  8.4, 16.7, 14.2, 20.8, 13.4, 11.7,  8.3, 10.2, 10.9, 11. ,\n",
              "         9.5, 14.5, 14.1, 16.1, 14.3, 11.7, 13.4,  9.6,  8.7,  8.4, 12.8,\n",
              "        10.5, 17.1, 18.4, 15.4, 10.8, 11.8, 14.9, 12.6, 14.1, 13. , 13.4,\n",
              "        15.2, 16.1, 17.8, 14.9, 14.1, 12.7, 13.5, 14.9, 20. , 16.4, 17.7,\n",
              "        19.5, 20.2, 21.4, 19.9, 19. , 19.1, 19.1, 20.1, 19.9, 19.6, 23.2,\n",
              "        29.8, 13.8, 13.3, 16.7, 12. , 14.6, 21.4, 23. , 23.7, 25. , 21.8,\n",
              "        20.6, 21.2, 19.1, 20.6, 15.2,  7. ,  8.1, 13.6, 20.1, 21.8, 24.5,\n",
              "        23.1, 19.7, 18.3, 21.2, 17.5, 16.8, 22.4, 20.6, 23.9, 22. , 11.9])}"
            ]
          },
          "metadata": {
            "tags": []
          },
          "execution_count": 107
        }
      ]
    },
    {
      "cell_type": "code",
      "metadata": {
        "id": "lLBy6e4ZJhVm",
        "colab_type": "code",
        "outputId": "cf960b30-8d62-4c33-f6ad-5bcc8d144574",
        "colab": {
          "base_uri": "https://localhost:8080/",
          "height": 217
        }
      },
      "source": [
        "# step 1 data preprocessing of boston data\n",
        "# to get features from data set we use pandas\n",
        "\n",
        "features = pd.DataFrame(boston.data,columns=boston.feature_names)\n",
        "\n",
        "# to get any column\n",
        "features['AGE']\n"
      ],
      "execution_count": 108,
      "outputs": [
        {
          "output_type": "execute_result",
          "data": {
            "text/plain": [
              "0      65.2\n",
              "1      78.9\n",
              "2      61.1\n",
              "3      45.8\n",
              "4      54.2\n",
              "       ... \n",
              "501    69.1\n",
              "502    76.7\n",
              "503    91.0\n",
              "504    89.3\n",
              "505    80.8\n",
              "Name: AGE, Length: 506, dtype: float64"
            ]
          },
          "metadata": {
            "tags": []
          },
          "execution_count": 108
        }
      ]
    },
    {
      "cell_type": "code",
      "metadata": {
        "id": "w6aWxjT_LWsi",
        "colab_type": "code",
        "colab": {}
      },
      "source": [
        "# to get the target column of boston dataset\n",
        "target = pd.DataFrame(boston.target,columns=['target'])\n"
      ],
      "execution_count": 0,
      "outputs": []
    },
    {
      "cell_type": "code",
      "metadata": {
        "id": "0CSy49zeMhyr",
        "colab_type": "code",
        "outputId": "9471e5a4-7496-4320-afef-432e46eda8a3",
        "colab": {
          "base_uri": "https://localhost:8080/",
          "height": 33
        }
      },
      "source": [
        "# to perform simple tasks on target dataset\n",
        "max(target['target'])"
      ],
      "execution_count": 110,
      "outputs": [
        {
          "output_type": "execute_result",
          "data": {
            "text/plain": [
              "50.0"
            ]
          },
          "metadata": {
            "tags": []
          },
          "execution_count": 110
        }
      ]
    },
    {
      "cell_type": "code",
      "metadata": {
        "id": "itW0IDkANAho",
        "colab_type": "code",
        "colab": {}
      },
      "source": [
        "# to concatenate the complete set use concat with axis=1 for columns\n",
        "df = pd.concat([features,target],axis=1)\n"
      ],
      "execution_count": 0,
      "outputs": []
    },
    {
      "cell_type": "code",
      "metadata": {
        "id": "WrcCfsJ-NnrL",
        "colab_type": "code",
        "outputId": "453d31a6-fe50-41ac-eb07-812565abcb7e",
        "colab": {
          "base_uri": "https://localhost:8080/",
          "height": 286
        }
      },
      "source": [
        "# visualization od dataset\n",
        "# describing the dataset\n",
        "df.describe().round(decimals=2)"
      ],
      "execution_count": 112,
      "outputs": [
        {
          "output_type": "execute_result",
          "data": {
            "text/html": [
              "<div>\n",
              "<style scoped>\n",
              "    .dataframe tbody tr th:only-of-type {\n",
              "        vertical-align: middle;\n",
              "    }\n",
              "\n",
              "    .dataframe tbody tr th {\n",
              "        vertical-align: top;\n",
              "    }\n",
              "\n",
              "    .dataframe thead th {\n",
              "        text-align: right;\n",
              "    }\n",
              "</style>\n",
              "<table border=\"1\" class=\"dataframe\">\n",
              "  <thead>\n",
              "    <tr style=\"text-align: right;\">\n",
              "      <th></th>\n",
              "      <th>CRIM</th>\n",
              "      <th>ZN</th>\n",
              "      <th>INDUS</th>\n",
              "      <th>CHAS</th>\n",
              "      <th>NOX</th>\n",
              "      <th>RM</th>\n",
              "      <th>AGE</th>\n",
              "      <th>DIS</th>\n",
              "      <th>RAD</th>\n",
              "      <th>TAX</th>\n",
              "      <th>PTRATIO</th>\n",
              "      <th>B</th>\n",
              "      <th>LSTAT</th>\n",
              "      <th>target</th>\n",
              "    </tr>\n",
              "  </thead>\n",
              "  <tbody>\n",
              "    <tr>\n",
              "      <th>count</th>\n",
              "      <td>506.00</td>\n",
              "      <td>506.00</td>\n",
              "      <td>506.00</td>\n",
              "      <td>506.00</td>\n",
              "      <td>506.00</td>\n",
              "      <td>506.00</td>\n",
              "      <td>506.00</td>\n",
              "      <td>506.00</td>\n",
              "      <td>506.00</td>\n",
              "      <td>506.00</td>\n",
              "      <td>506.00</td>\n",
              "      <td>506.00</td>\n",
              "      <td>506.00</td>\n",
              "      <td>506.00</td>\n",
              "    </tr>\n",
              "    <tr>\n",
              "      <th>mean</th>\n",
              "      <td>3.61</td>\n",
              "      <td>11.36</td>\n",
              "      <td>11.14</td>\n",
              "      <td>0.07</td>\n",
              "      <td>0.55</td>\n",
              "      <td>6.28</td>\n",
              "      <td>68.57</td>\n",
              "      <td>3.80</td>\n",
              "      <td>9.55</td>\n",
              "      <td>408.24</td>\n",
              "      <td>18.46</td>\n",
              "      <td>356.67</td>\n",
              "      <td>12.65</td>\n",
              "      <td>22.53</td>\n",
              "    </tr>\n",
              "    <tr>\n",
              "      <th>std</th>\n",
              "      <td>8.60</td>\n",
              "      <td>23.32</td>\n",
              "      <td>6.86</td>\n",
              "      <td>0.25</td>\n",
              "      <td>0.12</td>\n",
              "      <td>0.70</td>\n",
              "      <td>28.15</td>\n",
              "      <td>2.11</td>\n",
              "      <td>8.71</td>\n",
              "      <td>168.54</td>\n",
              "      <td>2.16</td>\n",
              "      <td>91.29</td>\n",
              "      <td>7.14</td>\n",
              "      <td>9.20</td>\n",
              "    </tr>\n",
              "    <tr>\n",
              "      <th>min</th>\n",
              "      <td>0.01</td>\n",
              "      <td>0.00</td>\n",
              "      <td>0.46</td>\n",
              "      <td>0.00</td>\n",
              "      <td>0.38</td>\n",
              "      <td>3.56</td>\n",
              "      <td>2.90</td>\n",
              "      <td>1.13</td>\n",
              "      <td>1.00</td>\n",
              "      <td>187.00</td>\n",
              "      <td>12.60</td>\n",
              "      <td>0.32</td>\n",
              "      <td>1.73</td>\n",
              "      <td>5.00</td>\n",
              "    </tr>\n",
              "    <tr>\n",
              "      <th>25%</th>\n",
              "      <td>0.08</td>\n",
              "      <td>0.00</td>\n",
              "      <td>5.19</td>\n",
              "      <td>0.00</td>\n",
              "      <td>0.45</td>\n",
              "      <td>5.89</td>\n",
              "      <td>45.02</td>\n",
              "      <td>2.10</td>\n",
              "      <td>4.00</td>\n",
              "      <td>279.00</td>\n",
              "      <td>17.40</td>\n",
              "      <td>375.38</td>\n",
              "      <td>6.95</td>\n",
              "      <td>17.02</td>\n",
              "    </tr>\n",
              "    <tr>\n",
              "      <th>50%</th>\n",
              "      <td>0.26</td>\n",
              "      <td>0.00</td>\n",
              "      <td>9.69</td>\n",
              "      <td>0.00</td>\n",
              "      <td>0.54</td>\n",
              "      <td>6.21</td>\n",
              "      <td>77.50</td>\n",
              "      <td>3.21</td>\n",
              "      <td>5.00</td>\n",
              "      <td>330.00</td>\n",
              "      <td>19.05</td>\n",
              "      <td>391.44</td>\n",
              "      <td>11.36</td>\n",
              "      <td>21.20</td>\n",
              "    </tr>\n",
              "    <tr>\n",
              "      <th>75%</th>\n",
              "      <td>3.68</td>\n",
              "      <td>12.50</td>\n",
              "      <td>18.10</td>\n",
              "      <td>0.00</td>\n",
              "      <td>0.62</td>\n",
              "      <td>6.62</td>\n",
              "      <td>94.07</td>\n",
              "      <td>5.19</td>\n",
              "      <td>24.00</td>\n",
              "      <td>666.00</td>\n",
              "      <td>20.20</td>\n",
              "      <td>396.22</td>\n",
              "      <td>16.96</td>\n",
              "      <td>25.00</td>\n",
              "    </tr>\n",
              "    <tr>\n",
              "      <th>max</th>\n",
              "      <td>88.98</td>\n",
              "      <td>100.00</td>\n",
              "      <td>27.74</td>\n",
              "      <td>1.00</td>\n",
              "      <td>0.87</td>\n",
              "      <td>8.78</td>\n",
              "      <td>100.00</td>\n",
              "      <td>12.13</td>\n",
              "      <td>24.00</td>\n",
              "      <td>711.00</td>\n",
              "      <td>22.00</td>\n",
              "      <td>396.90</td>\n",
              "      <td>37.97</td>\n",
              "      <td>50.00</td>\n",
              "    </tr>\n",
              "  </tbody>\n",
              "</table>\n",
              "</div>"
            ],
            "text/plain": [
              "         CRIM      ZN   INDUS    CHAS  ...  PTRATIO       B   LSTAT  target\n",
              "count  506.00  506.00  506.00  506.00  ...   506.00  506.00  506.00  506.00\n",
              "mean     3.61   11.36   11.14    0.07  ...    18.46  356.67   12.65   22.53\n",
              "std      8.60   23.32    6.86    0.25  ...     2.16   91.29    7.14    9.20\n",
              "min      0.01    0.00    0.46    0.00  ...    12.60    0.32    1.73    5.00\n",
              "25%      0.08    0.00    5.19    0.00  ...    17.40  375.38    6.95   17.02\n",
              "50%      0.26    0.00    9.69    0.00  ...    19.05  391.44   11.36   21.20\n",
              "75%      3.68   12.50   18.10    0.00  ...    20.20  396.22   16.96   25.00\n",
              "max     88.98  100.00   27.74    1.00  ...    22.00  396.90   37.97   50.00\n",
              "\n",
              "[8 rows x 14 columns]"
            ]
          },
          "metadata": {
            "tags": []
          },
          "execution_count": 112
        }
      ]
    },
    {
      "cell_type": "markdown",
      "metadata": {
        "id": "2M0SHOClTETc",
        "colab_type": "text"
      },
      "source": [
        "# Hence data has been gathered."
      ]
    },
    {
      "cell_type": "code",
      "metadata": {
        "id": "WKeiyx8MOIAA",
        "colab_type": "code",
        "outputId": "d90216da-242d-401e-907a-1cba7e5c2b94",
        "colab": {
          "base_uri": "https://localhost:8080/",
          "height": 606
        }
      },
      "source": [
        "# claculating correlation between every column in data \n",
        "\n",
        "corr = df.corr('pearson').round(decimals=5)\n",
        "\n",
        "# to get corelation between different objects\n",
        "# 1. get all the features as a list\n",
        "feature = list(features)\n",
        "\n",
        "# 2.use correaltio to get correlations\n",
        "corrs = [abs(corr[attr]['target']) for attr in feature]\n",
        "\n",
        "# 3. use zip function to aggregate elements fron two iterators corrs and feature\n",
        "l = list(zip(corrs,feature))\n",
        "\n",
        "# 4. use sort function to sort the zip in decending order\n",
        "l.sort(key= lambda x : x[0], reverse=True)\n",
        "\n",
        "# 5. unzip the list l in two lists using zip function \n",
        "corr, labels = list(zip(*l))\n",
        "\n",
        "# now finally plot a graph to show the correlations\n",
        "index = np.arange(len(labels))\n",
        "plt.figure(figsize=(20,10))\n",
        "plt.bar(index,corr,width=0.5)\n",
        "plt.xlabel('ATTRIBUTES')\n",
        "plt.ylabel('CORRELATION WITH THE TARGET VARIABLE')\n",
        "plt.xticks(index,labels)\n",
        "plt.show()\n",
        "\n",
        "\n"
      ],
      "execution_count": 113,
      "outputs": [
        {
          "output_type": "display_data",
          "data": {
            "image/png": "[encoded data removed]",
            "text/plain": [
              "<Figure size 1440x720 with 1 Axes>"
            ]
          },
          "metadata": {
            "tags": [],
            "needs_background": "light"
          }
        }
      ]
    },
    {
      "cell_type": "markdown",
      "metadata": {
        "id": "WBKSeijdSlUZ",
        "colab_type": "text"
      },
      "source": [
        "# **We now know that lstat has the highest correlation with target variable**\n",
        "\n"
      ]
    },
    {
      "cell_type": "markdown",
      "metadata": {
        "id": "WGU1OFfLTqK8",
        "colab_type": "text"
      },
      "source": [
        "# **NORMALIZATION OF DATA**(using minmaxscaler)"
      ]
    },
    {
      "cell_type": "code",
      "metadata": {
        "id": "Ao5G2fPERlxC",
        "colab_type": "code",
        "colab": {}
      },
      "source": [
        "# to get variables for normalization in regression model\n",
        "X = df['LSTAT'].values\n",
        "Y = df['target'].values\n",
        "\n"
      ],
      "execution_count": 0,
      "outputs": []
    },
    {
      "cell_type": "code",
      "metadata": {
        "id": "iltQ5CPLUcON",
        "colab_type": "code",
        "colab": {}
      },
      "source": [
        "# using minmaxscaler\n",
        "\n",
        "x_scaler = MinMaxScaler()\n",
        "X = x_scaler.fit_transform(X.reshape(-1,1))\n",
        "X = X[ : -1]\n",
        "\n",
        "y_scaler = MinMaxScaler()\n",
        "Y = y_scaler.fit_transform(Y.reshape(-1,1))\n",
        "Y = Y[ : -1]\n"
      ],
      "execution_count": 0,
      "outputs": []
    },
    {
      "cell_type": "markdown",
      "metadata": {
        "id": "QLYBPuDewK04",
        "colab_type": "text"
      },
      "source": [
        "# START OF LINAER REGRESSION"
      ]
    },
    {
      "cell_type": "markdown",
      "metadata": {
        "id": "iFnVI1SotWvS",
        "colab_type": "text"
      },
      "source": [
        "# STEP 2 : FINDIND ERRORS\n",
        "\n",
        "MEAN_SQUARED_ERROR=1/n(sum(np.power(target-predicted,2)))\n",
        "\n"
      ]
    },
    {
      "cell_type": "code",
      "metadata": {
        "id": "J1_fGoPnuWDN",
        "colab_type": "code",
        "colab": {}
      },
      "source": [
        "# defining the error\n",
        "def error(m,x,c,t):\n",
        "  N = x.size\n",
        "  e = sum(((m*x+c)-t)**2)\n",
        "  return e*1/(2*N)\n"
      ],
      "execution_count": 0,
      "outputs": []
    },
    {
      "cell_type": "markdown",
      "metadata": {
        "id": "DJyqjwwcU-JG",
        "colab_type": "text"
      },
      "source": [
        "# STEP 3 : SPLITTING THE DATA SET"
      ]
    },
    {
      "cell_type": "code",
      "metadata": {
        "id": "XBbnT4_eVEVC",
        "colab_type": "code",
        "colab": {}
      },
      "source": [
        "# splitting the data so model can be applied on it in xtrain xtest ytrain ytest and 0.2 indicates 20%\n",
        "\n",
        "xtrain , xtest , ytrain , ytest = train_test_split(X,Y,test_size=0.2)\n"
      ],
      "execution_count": 0,
      "outputs": []
    },
    {
      "cell_type": "markdown",
      "metadata": {
        "id": "GfIAic4ucOmw",
        "colab_type": "text"
      },
      "source": [
        "# STEP4 : DEFINING THE UPDATE FUNCTION AND GRADIENT DECENT FUNCTION\n"
      ]
    },
    {
      "cell_type": "code",
      "metadata": {
        "id": "phptO-BJaXgJ",
        "colab_type": "code",
        "colab": {}
      },
      "source": [
        "def update(m,x,c,t,learning_rate):\n",
        "  grad_m = sum(2*((m*x+c)-t)*x)\n",
        "  grad_c = sum(2*((m*x+c)-t))\n",
        "  m = m-grad_m*learning_rate\n",
        "  c = c-grad_c*learning_rate\n",
        "  return m,c"
      ],
      "execution_count": 0,
      "outputs": []
    },
    {
      "cell_type": "code",
      "metadata": {
        "id": "cIn05vfvdfsz",
        "colab_type": "code",
        "colab": {}
      },
      "source": [
        "def gradient_descent(init_m,init_c,x,t,learning_rate,iterations,error_threshold):\n",
        "  m = init_m\n",
        "  c = init_c\n",
        "  error_values = list()\n",
        "  mc_values = list()\n",
        "  for i in range(iterations):\n",
        "    e = error(m,x,c,t)\n",
        "    if e < error_threshold:\n",
        "      print(\"ERROR LESS THAN THRESHO;D STOPPING GRADIENT DESCENT\")\n",
        "      break\n",
        "    error_values.append(e)\n",
        "    m , c = update(m,x,c,t,learning_rate)\n",
        "    mc_values.append((m,c))\n",
        "  return m , c , error_values , mc_values\n",
        "\n",
        "\n"
      ],
      "execution_count": 0,
      "outputs": []
    },
    {
      "cell_type": "code",
      "metadata": {
        "id": "PpcPYIgzgBkf",
        "colab_type": "code",
        "colab": {
          "base_uri": "https://localhost:8080/",
          "height": 50
        },
        "outputId": "2fa41f0b-8c72-46bf-9400-9b14ad2f0da3"
      },
      "source": [
        "# magic function\n",
        "%%time \n",
        "\n",
        "init_m = 0.09\n",
        "init_c = 0\n",
        "learning_rate = 0.001\n",
        "iterations = 250\n",
        "error_threshold = 0.001\n",
        "\n",
        "m , c , error_values , mc_values = gradient_descent(init_m,init_c,xtrain,ytrain,learning_rate,iterations,error_threshold)\n",
        " \n"
      ],
      "execution_count": 120,
      "outputs": [
        {
          "output_type": "stream",
          "text": [
            "CPU times: user 221 ms, sys: 0 ns, total: 221 ms\n",
            "Wall time: 222 ms\n"
          ],
          "name": "stdout"
        }
      ]
    },
    {
      "cell_type": "markdown",
      "metadata": {
        "id": "HDhhb_0ehoVY",
        "colab_type": "text"
      },
      "source": [
        "# MODEL VISUALIZATION"
      ]
    },
    {
      "cell_type": "code",
      "metadata": {
        "id": "K2xO8IBHhsK9",
        "colab_type": "code",
        "colab": {}
      },
      "source": [
        "# as visualization takes more cpu processing so we use less no of iterations than used earlier\n",
        "\n",
        "mc_values_visual = mc_values[0:250:5]\n",
        "\n",
        "\n"
      ],
      "execution_count": 0,
      "outputs": []
    },
    {
      "cell_type": "code",
      "metadata": {
        "id": "WWh8XcW0k1Kc",
        "colab_type": "code",
        "colab": {
          "base_uri": "https://localhost:8080/",
          "height": 561
        },
        "outputId": "fcb6a077-02dd-41ef-d6df-d36927054dfe"
      },
      "source": [
        "fig , ax = plt.subplots()\n",
        "ln, = plt.plot([],[],'ro-',animated=True)\n",
        "\n",
        "\n",
        "# defininf init function\n",
        "\n",
        "def init():\n",
        "  plt.scatter(xtest,ytest,color='g')\n",
        "  ax.set_xlim(0,1.0)\n",
        "  ax.set_ylim(0,1.0)\n",
        "  return ln,\n",
        "\n",
        "\n",
        "# defining the update frame function\n",
        "\n",
        "def update_frame(frame):\n",
        "  m , c = mc_values_visual[frame]\n",
        "  x1 , y1 = -0.5 , m*-0.5 + c\n",
        "  x2 , y2 = 1.5 , m*1.5 + c\n",
        "  ln.set_data([x1,x2],[y1,y2])\n",
        "  return ln,\n",
        "\n",
        "anim = FuncAnimation(fig , update_frame , frames=range(len(mc_values_visual)) , init_func=init , blit=True)\n",
        "\n",
        "HTML(anim.to_html5_video())"
      ],
      "execution_count": 122,
      "outputs": [
        {
          "output_type": "execute_result",
          "data": {
            "text/html": [
              "<video width=\"432\" height=\"288\" controls autoplay loop>\n",
              "  <source type=\"video/mp4\" src=\"data:video/mp4;base64,AAAAHGZ0eXBNNFYgAAACAGlzb21pc28yYXZjMQAAAAhmcmVlAACF121kYXQAAAKtBgX//6ncRem9\n",
              "5tlIt5Ys2CDZI+7veDI2NCAtIGNvcmUgMTUyIHIyODU0IGU5YTU5MDMgLSBILjI2NC9NUEVHLTQg\n",
              "QVZDIGNvZGVjIC0gQ29weWxlZnQgMjAwMy0yMDE3IC0gaHR0cDovL3d3dy52aWRlb2xhbi5vcmcv\n",
              "eDI2NC5odG1sIC0gb3B0aW9uczogY2FiYWM9MSByZWY9MyBkZWJsb2NrPTE6MDowIGFuYWx5c2U9\n",
              "MHgzOjB4MTEzIG1lPWhleCBzdWJtZT03IHBzeT0xIHBzeV9yZD0xLjAwOjAuMDAgbWl4ZWRfcmVm\n",
              "PTEgbWVfcmFuZ2U9MTYgY2hyb21hX21lPTEgdHJlbGxpcz0xIDh4OGRjdD0xIGNxbT0wIGRlYWR6\n",
              "b25lPTIxLDExIGZhc3RfcHNraXA9MSBjaHJvbWFfcXBfb2Zmc2V0PS0yIHRocmVhZHM9MyBsb29r\n",
              "YWhlYWRfdGhyZWFkcz0xIHNsaWNlZF90aHJlYWRzPTAgbnI9MCBkZWNpbWF0ZT0xIGludGVybGFj\n",
              "ZWQ9MCBibHVyYXlfY29tcGF0PTAgY29uc3RyYWluZWRfaW50cmE9MCBiZnJhbWVzPTMgYl9weXJh\n",
              "bWlkPTIgYl9hZGFwdD0xIGJfYmlhcz0wIGRpcmVjdD0xIHdlaWdodGI9MSBvcGVuX2dvcD0wIHdl\n",
              "aWdodHA9MiBrZXlpbnQ9MjUwIGtleWludF9taW49NSBzY2VuZWN1dD00MCBpbnRyYV9yZWZyZXNo\n",
              "PTAgcmNfbG9va2FoZWFkPTQwIHJjPWNyZiBtYnRyZWU9MSBjcmY9MjMuMCBxY29tcD0wLjYwIHFw\n",
              "bWluPTAgcXBtYXg9NjkgcXBzdGVwPTQgaXBfcmF0aW89MS40MCBhcT0xOjEuMDAAgAAAJxVliIQA\n",
              "Ev/+963fgU3AQO1rulc4tMurlDQ9UfaUpni2SAAAAwADjiHS/hKNriBh5iDxAnfDgalWjtztNFrF\n",
              "NOAvf/O7Dj4mz6QwGYFocS77AleMSKayr5wABRlpJc5s//l2XLbBPPPk9jTlrV+qtKVQndd5zDiD\n",
              "dshzglnMCa0KVxHC0rq0ONwjOAh1nCSWT27bTwBXYb5oBNNfNHAHgylCN6QcCj+sJLHosqK3SfdB\n",
              "DVPtwgFqQnkCjfU2fJCGJf1t2v2pw/uDqYGe3hG5B5fQNFp/zzNuA9Y8ivMQsGTbufCzBJmf0RDv\n",
              "nEXExdwmn398AizTzGaxzKLZViPDgN+b3jwKPuh1FpgX5eC8f06reskB46JukJEZugh1/jKGGsca\n",
              "rKGP21ECTuNGfm+fZUCcZO4f+xA0BkLSJASAJ2HkrmHIC0xwlE0sRsWIGyYoPyVLMZ1Elc6m6fKT\n",
              "a8PNRlOXN4Mc+Vffl3gVNzComJ798ZoRJv34Qc1TqUGZiHB2/ZFhmZ2yM0+Ce22ztb7/zae+gwri\n",
              "V+YfnEPv9rVX1+6tIobEFSO2IAnJiWmLozo8ep5VxgMveYpDhBqyzz539gFGXSry82jvQH44Hb4E\n",
              "5LPzLF3ez6KnFurN1TiQ4MrzbAmhHbk1PZZhsaeZtblgMzG1dgxAFnOeC2b6emG9OKhiFyANYTkG\n",
              "+BtBA+pzCEoU3u+iAyCHKYK/G7VgkWwW8WTrMaEXMIn7SYZzwCCxldr9PWYh3TlqNlPhWtCi20Ff\n",
              "SWbUWY2Itl086woE9HHhXvhmrrt0xnb5zPEF4cKbOeTN6DcpgwXWdCfOcLXflHtLYtG6X3tCcbMd\n",
              "5l8spXwI1UhfCBDEIOCl6bAa9u7SdSE0xgWNLZHco3W61gubuzj59iG3FxpzhCsGT5k0qQ2xjAEe\n",
              "DmRNsN1NdziFhpUthvrL5EXJrWV9V9I6v/LMUz3wChjceHsCiBbjHPCj28x1gddO5e9u/6LfH8t+\n",
              "6xVjXr9iaF4K28prvLiek4qbnVAAEorFtrFU4RzLVHR9RPZ+e/DjRBwQDpm0qcuXCJSLuVQitTMO\n",
              "eNi2u8i13o1NY+y73MkjGP3Yx0mXjYjAbOpoABpMBBjrj3GOzhZ/mSDaCRjkvOmEZmy9+B5Zlv25\n",
              "QPs8FF9P2kZuSrSQXvibOGHeK+VcnACLq00SCIrc2K9C33CRo0HZhgw2ra4tsCC3bi0iP4hdwz/7\n",
              "I6Iu4z/6CSIhUAPKIgBLGE6o6FX3xFbmDV+grwBVwW6Zq/U/SUpKCHiqCV4cHR3OFDj1lvVF+vEw\n",
              "grZN75f3lqaZUZje477ij0woLmQnCo6HYAsE33TOAR+2XW4ta/7rWEdkojaRH87g4FPA/IrKyy11\n",
              "jxDl/n5UQfyq8H37Q84fh8053YvVZ5Mart0qCy/FK22YNyC1t5seZGjwsYYO622eHZMBsSa6UFIN\n",
              "lB9Fjz/ApjDGkcOBJU3GJZVIjtSF0FSjqYC8ufpS1l6sAiYDsrnrKpwIubiGCemquOrYa97cN5OD\n",
              "NhCUyFlqo/ffRYZLzvmYMk7MJFXW/yUPYoi0uqbzrfHe7b2KaCHM2fqoP1G5BbZHXUg43rldunla\n",
              "PRHhQ7GjaoeJCYTQtdRyUhs508CStBaSmZVrSo7xjeZwqJOW4pzhRb7qbcYKUqh8gWuRfAXtqcOm\n",
              "Q/T0L5BW+6pcKxzGtenQe14IHBApVdg+fLSNxPLSH53J7SVpSu27f4nb1DyEZ11G52BO1pRy1Fv7\n",
              "Ru8gfFEa8LyEoDt2ZFuh0up//tF3xBNooWh2uNa9YgTKvr2yaGzj28a5wNLhn2OU4s8HOspdPykv\n",
              "dDTqlQI2Dr+RNX1exlE0QmZToSmhnPhFSVE6IlK3IkX5QeJ3y2huA+M1UJahyxc28jtZLxv065E5\n",
              "+C32GXHUJLRK+0RoQsttkzK2GItJYn02pbmznr2PrnEE/bcqHeyUmtIu9p3aEOJf4xIhfvLiNYlw\n",
              "VJwfwaQsU9zMQk6jLehgprHMGUbybaJIGwr4bb7YJ5xPt7oO58APmPai5K4TlISJnbLTRU6Qaa9E\n",
              "zGoia0v3zLZttNZvfDh+Ij2YYjNnT4gojCdYaGPUDl3u1aZbZpDMXeDBTBdQVT6Ha7+nfW8CpTR9\n",
              "pPeB7zUjJT4Nwi/22BFxRbsno0VHEhaf+PvArg8CTymO7NwIVeTC/7LMQc4ya6vmxwvbGDl+3Zyl\n",
              "hC8Uuss5mI1C38jSZvek0EPMpYspzVwZrPrMjl3i4lXhALexhP5DZqO1vJ5XU2bXhApD/d5Jn7Kh\n",
              "lahbK3YvyuUiWBEK4JbSenMMjwkufyaqRBeMWMDJsE8bXamA6Sdr2FNjqa1dTCsfOYeA+KU1Xg31\n",
              "gHkTPC58lEc2MJg6gc5zVe3IGxWzqQKjlYVhR24LrLDldSysRXgTCdX5HQXcnwk318+EkT+4SZc/\n",
              "PwpsgZSNEIU83mFsG7oQSjV1SW36LgCR81PeiuyGzkJOi5glLyGnS94Th3xEv4UL+5SJlMxwoBuQ\n",
              "rqaYXf15lx3uSTbHRwhC9sHiX1ST3EekkF/ZqlYrHLrGjZDlTX6RAxkmS3/y/VGj8rBtrTQmQ+TL\n",
              "+olM2u321hnQCstjqe3Ptvc/Bt8RVAEmlA8PF9eRZO0kmKImio1+Z5i3RgHUG9cGtuaFaSulsDEs\n",
              "TtPauJkp5bjoY0GRCS8Rju1eTYKGUbM0asE6zNPEt3BbMumJxzFDcclQv+YnnY77JHlGkUP++QPr\n",
              "Dqwqa9f3YM9ro3ZYGZAInRWWtj6Wu+ZVmfy7CUNYmwtjgqpxKJ6vP1h8Lq9uR6GsB4Bcv+qeR+sH\n",
              "9tigtQiWTgVil2xlNn/+hLBmZcXWGw/QUJvDP3SboJr4tJjOsSPsqjHIuZWzzXtmMis9qe+wI1QC\n",
              "Wvp1VXrSibH5bu2buzwzpYziw/K/rYO5jO4iwyJ5UGhIcQ83HiZx89BpkSR8A77Pb6ut9JacR1/0\n",
              "pzkePtFvx3UvkYn0E2QBQP+Uy3cbcOEx+H4rWZM+eheFD5GGyoXogUuByq946sSsj33/eUeuWpf5\n",
              "xdOJlQeZ4rJYPjAToKgeL+lw0aC7JaPSWpmLRWBTI8XDabNjdSt+fGFuXi+RiPCaM2sBdYjsuFqN\n",
              "vf1bJg6mHZV3oCSOle7rY5aUzIwBFLlojlWZ5l0upHGr47f38nlBTrLSJ/8+LkrZ867Gd087dy03\n",
              "Q/X8eUz7Dgp3YyLS3DHW+1P9RsRlj4hrbHr4Gbp+BGMek3daeTUHO0MH+pt3jtuIYJ125IneB0pe\n",
              "BvTwUpHuhM1ptd0NaBukLsbPyYa578G55Jm2UYDCDh/rY+FiOxkccTOyAEbTWVKPpVR550Pfq5xR\n",
              "ikgi7SGVBnjWGk2zA/65rLOIWDTllll72t238ORGuLbcWauf/7/Kdk8tn9bZvHNi4tJiiF7yqcVV\n",
              "XxBT6zMqFxeiBuHt7roAv33iiQbK2QtqT4okDJq5FlQtGR3EOc5RQ+U+Uqu8qf121+Vg2YIQsffH\n",
              "SL6LWgcNKk31nVuV1UMdnfjt63YlQXj8UNBvTOuP9D7zCbgHRVLc5RDaWxpe9OsihGU0TxK7YCu+\n",
              "898lrAygVr8P5E94GMj9KAOqcVPdAmNK8zR/9bz81dzIvvQYDONXR8UuQclD44bXLXggILQg3reT\n",
              "jUXJlnd/swOUV9w5WQ/S7t4kgOjBP2ZNVEbe+xnee7bcLOiptQw07cuvma0rlKuTuJttJx2Lfk7Z\n",
              "HFYV4R3M0M1j+ufayBOtBEgL3BNBvP0qReUMVVqsUH4dXMrfgbAaAg7qwlCwDD0hkrFGg+KYYEoW\n",
              "kOPYaCBKbC/TZfojBrhadOigxfK+iQJ7VEkgGLX+YVTfZ2pt8IRMpNT/3AK18B8mRU9dPKASmKid\n",
              "PyMoFXAXSZq0asGPjSDqtfMh397Wbz50JB757I0130LAw3ldGSQwI787PwDClPNvNumMzY7g0M6X\n",
              "YTvW68Fsfi/Wfz9oTdSPo8iyqWPK1tFBpAcTvfR51GYTh2RkdNnS2v6QF2ePUs+98HtLtJJ6PX09\n",
              "cFCckjxC8m+yJA0jhflfR6gfdvndGGsp+jUgVjts+43edInJFuptQHTNJQ1k67rYOXfSluSJ+RL8\n",
              "1FPNohER1u2z7ze7CSzH+yJGZeAmEIkKDRNZSsRCCNxKGx1uicI/0FZ6bxJyRV/8Od/Y0zTuj3dB\n",
              "M/7PpUui4EazP4ap2SRkD8qIx4muJ/gizDAI8KLAzyLcHFuv14yMBOJmFtd7dXQiK5kWIAZCPAka\n",
              "6VA+WbjDN/RvpveJSvaXwm2WC1mdwSoCS2wG0t+sHcPzsRnMjIpay1Tc22ZIegDGM299pZbjyALY\n",
              "D/lOxyFQjRgpBxLR9MCTLnV9FdtsXax81LAgR9LHt3cNW3VTTTKGnBPm5kzgORd9B9Ij2ZXBm4cr\n",
              "NocWW/74GnMfHL45uxZQUXP4RaGy6DEVZO7BMV/HtzwdV//Ur8E16yfzqkTUvklN9tONnIoBSn8l\n",
              "9sTwVsjavdVEQS34S+fVGDhN0hX14yVmh1nGjcEyn0gF+4f/uAyxfvrMsiNUzY5x17a5oB+04rYU\n",
              "o+fWeJiKsj/URk6yoF3uH8bIk74xp+TlwiP/2/ADRUyL+GH90PAWme4XpqxFLRpvlj76R3VV6bWf\n",
              "mG0gIVRXueTPtpadcDR0s92iI8CtsifvpFTtBRmoya+bgqTh0aj9uTNBeCYgVeLwdm74PsSG9Tdk\n",
              "xGqx3hlIxo3Xt/k1zaNq0YZVO47gmKXUZUndBbuvV3fbyNEd2kf8G3OnhozxlXGxSCKevJxZ2iPb\n",
              "5epgPGcIWLhL/YB45Y3WgM24+l1DHczS/FHobpijNQ10Adx08GkASdcAi/JrYL9fLaavt9Kp9lpP\n",
              "ajPqnYTP86MPb3TjVWV0/oo2cR4D6Tcf/olCxjipCza2vPvYznPlw+llRvYM/t1NEK5vlH1evDbc\n",
              "sEfrAPP/dX1qWXaMocW1zPLruhN6keTx5JbW0T0brCrq2FcE/f9qUzgxqT1LKIEtIiIYvq2AavzL\n",
              "rYR16G3GnobSXRB2UTWOmbYl/yDL46BwuQCg8Sr8juWuQPFkxEP/zl0xybCMs7urwCLZSpUXpTDV\n",
              "WDbpzDcfj0GaveDumWAcx9+owR8WXNchEgKcgAbekVsi4n3niK4Fv6YyrlEY8/qcV+ooKvoHrOoO\n",
              "0OwTBSojUNeFDi9RggEi70G2j8IHWCCN0++6t0P/ty2mfL4armTNV5jP743RLZGHXdg1UtQlZ+c1\n",
              "XI5H997UZ3QMzB8Wm1SXfMN8j1OLQ9rSvfukJyrAdJ9KmzyNGhaW4txLKR0xKViqd7awY3Za1G4i\n",
              "O0UzQLhQk54kmM4G6nJ40cuLSzTTX4sOYXxAp45FEmBGuPCudufUmbrPGLakz0TSDEgJjs3aXf2Z\n",
              "D75zFPMmCY+4PvOYvL3oLktE1UQH/rZXjOhZuLVwFqECpVTSt5EK0JHDBYUWuHv/jENuPpap79vi\n",
              "mwlMEVR5z/kLLfUiRn35cOFl+8vD5tbBhJ1Lw3OvZBvNfF/PNEW0T18qDIAqOebwP3TRgmVyjjJa\n",
              "iii1xLvHQbKke4tqfyGXLzB/htk/9hEh/9+IVTFsBPY+IneqJ+XEG/93Bd+UfU4iohaexkywZ630\n",
              "NUuDAZPcqN9p1hZu1QZfEaDpwSgujjNVToGjp8tke5/eJxt9brAT7Fyhu6h4EhlWfWgxWvkAIG6Z\n",
              "UxRUzXtpsVTsPbU4tchuRXWBZYGNdNI0XaddhK+CgglpkDPDUXGt95SGtzMCcF81XOzCt3vdYlZ9\n",
              "k5/iyHyUMAEQG2fwgATEkVS/wWvKmzmKUm2Bi0srKpmFou4X5DFvGV9FScbwlK1G//lJduEhqwOh\n",
              "PIuq1ZoYRWfh/SuzWoOvk8Ci2FhRw4fIb0v4ida8XweibQKFHrFmfUryOYzU3MjvqKly26JiOlsO\n",
              "tBawDg7jX8c6w1jOHWEYwQ4q1wvFWJf/USMiijbk8K8Y02+TVIZ1onSw3StQzSN69w4acHBPqGoL\n",
              "Y08nqlbxyKeQoiG1Ze8MQfplXzE4ezvrhmTkfueOPKMvYkcGGUfTOQ24xNB9C0FUUblFWujGmNrw\n",
              "+4Z5+gkV4xi12TOyGX7mtEnyfGv8mdlmOW0dlBItRXUNSdx8zgoCI5zJb4i1AVfTLHkULGMNzrVX\n",
              "m4NBmeZxuge/zjS/81b/PFPS5JYnj5mnHD8w6UTeYAeDm6wBjGZ0wObVxCA/o1Wqmv79bwxz/XB2\n",
              "af+wuMEp6jDTGOuSw00sWIQfKkLFUngINzoyPAOfO2GoeA6o8PkQ+zcdCQZGIiqk0l3btSoEOpPt\n",
              "V206JvtAqbLuAbbC3qe47qF6m/tVk3jgvL4BFBwOURjLkyWi7PynPp7bVWpn3mRXZzoFNx8m/6uL\n",
              "yL4+r+niZIvAtYLQhzFwgOX0qFtYq1HGuwKOneHP7yqY9VDnnOsyGKWa7ZqMJ3E9pwLToAEXKRDC\n",
              "eQJXTNJdUCU2kvthPXIys/Z7sXeGgkS/YEU5OWMVJNJu9lFaWNal0vKYjHLzzgu3a4pVpZ5n8vCE\n",
              "xBDVMkWZe4LHtHyV47c7WAMNSJcEMHAjmxewffOx6xG2X1RF8kgdbuJOovxrgpCHEf7vSBrENLkP\n",
              "7gH643bickG0fBdRd+0lgcUrfOuXjCCP9VH1mXCDIwfmBr0ARLyQ8n1AHyLQuHAh9YGjQa1z2VGZ\n",
              "2EREXetRVyCROUEgsAUApFpDl2x+yULnChgFRUC22ri8xiFMn7WHnWnwKF+DIZZaFoh9FrRBK/0a\n",
              "3U+ggxOmCV6XHailKrzL3u9qsa8wVuj4ZrAUbfXu7wA++dyTudiC2QJ+R83aBeucHw/hfSoCDSWZ\n",
              "A9Y983lMmRCzvZ+5+GvjXnBLx6Xxt4y7Gq1AvoVL95JYt0l2+YMEs7fXJ22bOTL+TSkUPCaQ7FVb\n",
              "Ej4lpFfLxQRMErddVikUFBBqB/aAO9e8aXzHArzFH1II5e2AMML/dEAkcxeGtJNwgbHHqfsQfPzv\n",
              "h0BTEeDQRPM+hPXJVLEJfvWF1/TMv6wSOtZKIqA18j4/gOveOGuqJvVr1o55tf+t5El9SRixpV3x\n",
              "0XSoOfj0GNz2EQyDPonQDIPGuSfGaysfyhBNu8FGK950r7T7jbm3ZoBXH0wbA6p6NHyXUU2v3c1j\n",
              "LqLSKJuI8rGtp3RfhrlzRhcClQekKnvwJptl6xgjEPVkBuobPhOmfJeh0Sh/1TCT+GMI3vuP7S+B\n",
              "pcA38lpYTBpXTxMcxGYWVEso1hEXL+MSjixHIPOmJI5Vegqs+76OoKuyNyo0qTV0SY3YaKsxk4rU\n",
              "oXFqHy4SCv3X9yrHrB0BQYj5PIJprzu59ZdM2eNcsaTp87degDuDjhXdRczzbRvH1D2GyofzydJ1\n",
              "OvplXH0gG1KSPLJz2S9vaSI/pwNgNiRTryNF6h21Wd5O/EDqv12ocb24jS8kMlcs4nGgFJ9G+DsZ\n",
              "WjcfF3J/IseyGksCoXKJsXyUjCmHZK8M6fD8Xh3VzjlTzk54S5wrTeRPcmsM4cFN8tHGeEF73s7y\n",
              "1R/W+GLeC1sey1rZIX3lr5fITApNJcKp/nU1JjoVOqKNO/Tzb4N9/ZYRDO0M61+LamL6cQfoLuZv\n",
              "0BaXBD1/48peSbemzQjyAWgaU/vCxZg3E2S6rDorO3sQgurESfRJG9C7uWpq+r3bUgCkO+GusL5N\n",
              "Y67dK9vp6b+x5idbGOVl1X7wSHUFPZEG8/tpQnh7nLdcswfM2LRyqWOSxVu9+YFVHScIhg2jTD/V\n",
              "LGkGu63pZ2U9E59IoC7YeRLq3C6+QtIiJ4qEFYgQ80YAWJEjBjJ4dCME1aJbJ+FOg2r4X8lNPgkr\n",
              "4zv3D8oZAjNm9PWvR2YMToleAe9NIiYfhbBjoagRmmG9tKH2cpO3vXClTbvwSPnLpvv4ssnTCoGT\n",
              "EHch/ZjZKEVafUxINXmlhjBXg3FYY1WrrlTenKCKqCXqPoZobT9N2pNTZYlK3XebfmxqBO7GFfmi\n",
              "b0sFeVxXlN6XVGKpWK9pCihdfAQiFANuSB4PNzc5EjNDEvG6KhgZZ7a79Yv+US+S1SCe9DvhtVIv\n",
              "K2sYs7OccJGqHZvjtEqqy6KXXOFNv1sQBUEUybGM1cB2kY6jBoQB4lMokgOk1N4fVHdpBOOwnIy2\n",
              "A8rjsRP9JV/lIkGWIsE3Nys7Jq1hESxAaxXwvtGn/bHJxjhBnM4UdyWlb5VzlHJOsiq30g+vTQnA\n",
              "eO9QzsESv+UPyOHTP88HsVOp79ipyTFx7uJynE74nXj+r3plQBBjXu0KPZRmJ3ypAn6PuiRwJ9K/\n",
              "spCCJ3LWuMY8jJNI68lNLDrXdJTJM4MlVeYzpWInRmfRCinMqnTj/4mIDJIDv0NMhwyneUwpXsQf\n",
              "fpV4jZ6a2O5GRFHRqCb2XiBI9t6sKd77oNc1IwCDKoBEm1evLqXTaev6BSLgaCtiNIn0PgKjeEX2\n",
              "uzv5aqfX1rV+0I5GRJzebu/EtTKVAJ8R0i/4XJjwfPAxHX4ja2qYPisvonvTZ5CDH3Pwtof5Fb2S\n",
              "mPIybFsuwW9AQpD52qZFsXNPoNLsTBs9c2uPGD7ER2W8ksA4wb4sONfyMIiGgk6GXNcFU/bQHjCY\n",
              "jk3E8tc0X1XAaeS7wgs13pKZwkWLPj3+N6BLwfdqcd61XbDXIkhNaUr4v1Jl7ykSGSSmDOh3zrtM\n",
              "i9PKBfTexkQu0hlle8X5e0mqcgQ64mDiqIC/RIuHp87ePXVlolPCRFUMWDfp33p1aTlDIwoqbYym\n",
              "tGSKYqXRFPGB7Uj4YP+8LbjeY+Hfn6tjUW9aiZRBMxpNdYRY2cNhjGmtMrIKYUX4kNywgSG9v9fu\n",
              "IwJRa8rHkYP6SGTdQvpu3qKOSFk5Mbavz63x0P682qicN+/W0i8LLanRiHNxC6PS8iS+NL29lhUr\n",
              "Mtv6dil7jFiDykWBJpeqbn08y7OP/iqvTE5LJRILiMbdxKw169AUm183219G4xWztZBfifQhpFME\n",
              "UWdKhRbVLr4vD9ciXFEkSvRJfMVMYk95cNllXzY+Nhhj7By0D8QwK5SC4X0jh2OpUpkqCB9gp1gT\n",
              "hdJ57cV70DsZX5Kl+/V5TjF2ayPohcrpZYBNs9vDJcRrnIlBvVE204afNK8ghkPfXpEcl0jhrcuu\n",
              "EDkyO9gWD3Hp0bVtoCXdDPTaiNBMooZm7UmyEDCP11kJiFJ2SM3XGK07cav4huFnlrS449Xa5zp3\n",
              "xYtWsQmdTFIwcKFBOwH6uu4FIaCtlZ4etxKp3JKWo/9CpdRHvRdFvf1rFZltQnf4xMbcO0a3nPXU\n",
              "N8Ohua6BNI4u6q4mEi3I1eXITXTCv62/bjhnHpI/gEFPHnQNWK4vszolGrAQuuhhIQziSIkjn9I+\n",
              "lkoF7XF5cUaFMxxGKqhhQVizWPw/wgMbE/vr65ySRhsRLKmqRS49h/bfgUJZFf5nXz6Cjo4tERRK\n",
              "hHyRFBP3vufE07hC57al9UdmJQCi6EA7TdaQKePzoBtOLz2VYJa97SqJ8kHlFy6yru7zRQUscZuq\n",
              "XdvMHE8lj3o4MRh181F5zzx5/uC/XlutLZBzaMdClH/6wxHjoar/Sa8IaQFPT2sqeFN9VrZNkkkN\n",
              "KyxmKgtBl0cAKqLWxeHyF9vAsK420e9/zbewMakZSzVqIq2qXQ/JtP4C07c34qksPd8Mrn69LI5b\n",
              "9kVRLSlr6Z+1uqgNEsnaqWXsr0bVhIzlhAz2vCgrIvXnX5gvFnFbUxr+49ancN0AzpbJmGN23HgS\n",
              "X/LxmTapVMhaDRHYK3nW1Iu2bouutsGLcoE20OFOklGi5NaG4WD12RmHzfiA00fC/NYjU8Qyg/Xg\n",
              "ValAfzVd+3fHZGsgERCFSADVeu5K66SdNVxY/uMf2JmM4c6UWmdhF51htribr8Ro7eK14OK6ToBF\n",
              "oJ0rLG2KAq08hb9ol6PVWt6KLR2Hm7byl6x2BKHdzF50Xps0Z8Y6w+PpAD4qGv1ojRQhEwFBSt4D\n",
              "rK4ckGEI++WQZiYKqrRppmxYwvb3W8zVe6FjGpkuJaot7uz/ITefVWMoAkWf9crLP/F8MKwLkXR0\n",
              "PTvjZaDgjLc0ceu3J9fDwEnvF06LjP4Y/7UTziqeqSxhyWC9l0rAr8fqeuC8ZAH/toykDTcPvydO\n",
              "vsbkRUn0MKNH//XxAyFF7bzzB48NCYNv9nBf0+4RRpSjZ7mICISy48XBJdjQnZQMcLBzDwOB7fs4\n",
              "MmpmHvEJi/roKxUFc30LFs1o1VfL5F7e7FEwMMJDW5KJWOU66AcEoM/xR7LMk8JGMY4F3TkdxktJ\n",
              "juGjkxl/5QdiatE3C/EMzskVGcKn8gdbuhhh1lgUEvZe8fOfwvpQ12fqrMrE4fzni7QUxqKmfj0e\n",
              "NtGSpqn9VfxbLwsYMpVsDTiNd47IQ+hdnMgFA2KSuvEXdvMBbgPOi7Qg3TQcHUihWEI/+s7VHQDk\n",
              "aa8zKH0TLIjrOfNodZFWgh+u0yW+emGcoLUDciEwSVjRmPAYeziUTL2FW5BmculvaVCsYrl/860h\n",
              "kHq5irDqee/rJ/Lbl3huE0G4mM1C1osYaAJ8gLXF0jQFXGOWF0/u2YaIuBF+6aAz0nRdF9mYOPEP\n",
              "BUDBAQkfBV+P2AzUa1kOI7WdPlxJIzglhnBEblp3/Q/XdfXtxIZn5caPWmpiJSaZmU4f6CAHbVHN\n",
              "Bn6C0XMHoaW2QhmAJINFPt1ItZe7Q2nNAnkpNrq71LVO5ignJdCUHPSPkB0u/1Q71BPlku8j+ULw\n",
              "F1jEh8koY1JEIxPG+OJBLKoDJUYUx9LQkSvWXTRYyFWSBBLStVoYantTeQio7ODdmbo76q7zvpr8\n",
              "TMSlDh89RKrH5mWKE6EcpO6gnJkM5N7XMAz18pwkHB4P+yg9pAdpaqYjgBia6eT19Omwgt+Rfn8K\n",
              "cEyX2cp9bLeQU4fLywlRxqeNGjOcwNOO8+ZX137w50uSjSZLhvOoCxPnmdS0QDCDB7Nr9RDVOjuK\n",
              "/qF4n2Wpa6Y+sGaNKqeKVV9eVdl6STk9qqYu2PB8kVhzoF5MriJHvJq/9q9ry5pnQR8CHg8P/3TH\n",
              "HPiqj8kYTRpHGyEzZicX1MOjqwkXzpFOKteqhAofGZOjOIdaNJfViqHuIWnqhPWQn3AmtZS9dMVf\n",
              "MyrzQWc3S/cVXNpu18a17YtpoPmLglShjrn1bLEvXON8lLLUAjC11ssbD8ixGaZ54VSTf7ocuozC\n",
              "0X2g66b0nrBw5Tee5CWtjra1RHwEcQOFrXVtbv7sQyR/fXizblmxHmy3ceY40trAhTrZE/Q2aHsj\n",
              "Lzb5Ljshgcu/MbLmrXoM2w0oItF5agQfcujE7tPz8Q2bgPIAuuTqIUjucDaFbXwEifE/pr8o0bve\n",
              "W5cdmnearDMWtE5cr0KwpU0D/iyxav3WZLTABwyQNcfUR4/c/dmHL0FkD+Q9m5bHW33dylmv2oaC\n",
              "lrJGexrP++De+nZ77CfC95G6gl1+cop2hvxBBwCF/HWnoY+d11fyGQu+fdzUHLclftvXhqJaBhvh\n",
              "qWFSNlJYVohT+vC8Ub4nS9gBoC5vDt/cg+qq58EbgCouL8F6efIUmlgszqXoslTgQ9lFKCxfv/eZ\n",
              "YmzlTTiFSsmU0JPwpLqz5bgd0HHGQ2dOiFq8RPa92jR3Pr2nhH2lmehJCG2ZVOV4HTtWE+R0ug30\n",
              "UjE6sUUuQo+JO+LLcVS5s+49fsfP+YzqDrPLrmGcX3lFlvQAH8vacIvpgWStwwD6X/N1f5kufJVf\n",
              "XgB7QNAlFbeqm//8Ddp/YdiR/02c2bLpkel5rmHiGzslkNVT95e/bUTO36ZqbPlcBLPgm6dfz//n\n",
              "wC97tR5Rv82JZQJaAqldVa/ebwEVhFIaqD10PF7YFkWE7c8Yan8+4dOv4MzMA28X2KfMakv/Qa3p\n",
              "l/FBvb9ep3LJE1IyhVKcKHdFtA7CW0xR7e/aQ0WdJDiAiOx8AK+dLWUkKJBDpVTg3rrSclmLoWPj\n",
              "voxSbKYEhf5WRMnZzub7cPaB0e5JDq+Bdg3WEbnxHFenxyFP7A1Gnx0QdqOnevtWKFKxUJM5I/yF\n",
              "B3hPj6q0RnrzP1OYA2TyqnrPKDGBvxrdOlmzdKmJC1GsmwY/g1DwZtbMQepfj/L/JbnGXLAe45Wb\n",
              "2T4Wg/RX/kVvDt0dfUmwJsF2QxN0ulqWJaaAQw5kmcPSvyAVs1u1CVucCr7CWDu9lW3davm6bgzV\n",
              "/PnkxjYuXktxE0iz74cBjOMZoPgVPdBfiWlSPYOUyLeEYDWOA6lnxwqgCmuaKe7a2YIJoOiqHl4z\n",
              "mTAusbgw4Rktd/zgExMWcmy4AFJmlrN4sKmHrJ1ubkixAOdX1mWg4piO5ts5G/jklmInShEQnjWV\n",
              "GlNG+BJLOYy1JhFL6fRgX67t/WvUQirOuHNF6XvDmQWr6d73dnxXRyky/8hV183ZdN2CGZn8DdsQ\n",
              "nIqX8dApWczgbUMbhLH9trQzFiWad2Ok79/DCBpPWuVmF4ysFcM4uqGwsUWesJBagoXuy2MmiP40\n",
              "WmrxPlqrO5TGqVFmULIAGS4zkEvo9XjXkHzlRXPGCLvH+q99GhrzYqA2swXthL88Uw5gHW1oVptf\n",
              "GLO1b4/qcpIY3RALmS0+GBsJM1CEpTu/k6H5vF+XDzvJKbJFr8YIQy9QtMujpOoj1RWk6HpSF0o+\n",
              "GZ5IAzwyWYxOMdvVpvCNacEJhacVanzKpUOF2wm2Yo7y9jJA+QxQvv4h9FVDBZnLh1yx9sdzaQWD\n",
              "4oSng8C56f8bDusN2dvsi51fzMvphVET3JewnQRbLkhqZ6Zl1z0zlQ8IHvOmnZWjRflal2az4EEI\n",
              "wm7r/zjvW+SU832xOQznN1zzaNgzv6QAlh8toEiJFCDMH/xXokLwidkjfaAaNct4/gC+fVllp/bL\n",
              "ke9jrabtSUgkphsHy/XiIWOdeUZty7h9sEA9B/H+K/aBjuCqzAHeCzmV7EZ3z2MLR3549FeRqfTC\n",
              "ftP6Vn3KEXo+P0SJ3ov/ekq3ZXn/2/6BdFQJNHXYn88tS3I+tk1DDIfwQKG0w/MbyLBuixJ62eVM\n",
              "uHUsXceTtoyFGzj2RMUrynSIstg7bSiOFn9tzSw5UlSvM08YHRzEG3ZJVGficWooaA09m8aeje2V\n",
              "qj0u96z+5EOULvcloMRQglQt1uUIkrVmUOn9InGreI32cMbxn9j2NN5YYlUtXl8sQ8z2tFW/w8gc\n",
              "qbJW7LcWW1foC4h+qDvo4yprOXATvN/zleA6LqCxX4m+zmmbfDOLU1EkAZ02B6lGLs8oW9LWIMLu\n",
              "vi+rJeW0jfV6gws4YfpluBy+aTPnHo9/9p/RFgN3RRzfoEwPksDVPTBpVNpkocFLbzjM9d3i2TXf\n",
              "96/qYdCbDTZcxA/KWB2Bh9E+AAADAAADAZcAAAawQZoibEEv/rUqgCKNGGUAZ7gndQDHDN08QMTd\n",
              "xhZEd3eBF9VFdwT7Vw5BdQzy3V0QaZFH4Qr2tZCibGGONqGOokB0ZEq1LQ7HJHqUf8UvbIB2a9jP\n",
              "qBT7MdLU4DLTh2zep1JnCkn8+FfsGbPYRmMtePZRhmO+a9YnSfGb1zw5A/uBGFheJwCPt0XxxXNc\n",
              "h+Pk79ICgEMcYE54Hf63ACTclqobkIoGj/LHbbGwb1jMc3LfczTQ7MAp9S+ytbej9R9wiPed6w8u\n",
              "xHO4QZwHX//fNn7nxQruwiIsxyTv+Ua6OIP5pF4AdhVQBZYvs1GqH0PTxrwdylnwT80KCZIKXd0d\n",
              "YntIAzPaG1xKm8eNCryxX6NDMWYkG/6VgZ1pRN+Qx/6mTK1t84yye39w15vSP8KvhdUlypg4lWy1\n",
              "GELDvs+ztaHB3arp6sEkVvWwDNsc1H5sAbCgtqucE5jt3sOt0/tL/OTON2w8minEv6SDX1EB54iP\n",
              "Ydw/mHG+Of+D1Z/cWzT2yaHwewnMpLkKNxDyArLjjby5s1iuizGBQz3X24iZt/CkZwgJ6kg2TU3q\n",
              "Jq8mArM2s2HxTA9wpb+E/vWgnIZP2QP0zJBtbWHiiayG0GiIzf5HdUMpjNuCZho1Vwd4/0Xnic+G\n",
              "J0JYa/HsW4VSnv6K+sYyUW1lJYx3Kyb7pl2v5cslTXaGs2z1v/lmz6TSjkuPurx8RzrbdvHPvAPI\n",
              "bXe7Dtwfj1RewYTuigKJ5mevHxYa0Et1qQvv+J9+7S7fYuipekt8Qnx6zj9kIzQz6zcGz/TuFp2Q\n",
              "7CD7K4PVN8qwO7o2mAlevazTd8dm8LWFgIJbcl48lvF2XRZop6dIjN0QL5oj9v8bZ3UbZZuWFJZx\n",
              "Pt2s72PqVvj5oyLQBuCx09N7yp9RH4C/1KOFO5QOJq/J1ul349vLIUa4l5aTXGUF4xiwsEZYVtkH\n",
              "hpdjf9glOapeqBU0Hcp1SzfRkwZW8tGLttpcHXc1NSfwzsC8o6z5pZO9zURGmRhCdH/27xeh+57g\n",
              "yMtXUoPb9OyuLud0hai1m/+oI1PHvbmNRlo2Xy1RluRZYzTS6gv1x3jsgSmymvh97IbVINwvXKkC\n",
              "rk6TaDlK6Kf2PxQJknrcz2VWMqmjLO7DHXMXNwuAWClGRkZSU+P4qNyUgHXN5n9Ka47Qd3r0tBqR\n",
              "qVr8C3FjZt+g43nzcA/H20kiSSGIkqAgqUYMtPSo3QVFwC2w21K0zbDIYuptn4sUzQ3sSSebGXV8\n",
              "cmXo72s6gU8AQTDIHgPrjahjK+0/4eKVazxasXu3KLfGIa7d4s7QFNyC/kcyqvCNP7jOsEo4aYoj\n",
              "6wM6gbmsRf+aFfwoPGNQlJTGMSGf4VBcbfOh/nQMKPv51h4Ndh4XBvjuD2CNZUccnOINlHkGSeWM\n",
              "H19oDmSSR2FXUttggL4Kmk3CCq/ydhO/1sCKWi93FH7ZK2au6RMCr1xnmXMfF9Xv+d/FKAiXWXVS\n",
              "h3sHV2kNpsNBcFJaTUgKRUDjYxgTJpfslVsRPYSNhWUa04fRuiF/Ek+Ff9SbtTvTfnd1LDenjbPU\n",
              "GAAYtr0Kl4xGGRnxoV/VZQwFfAKRaWVLAYxxuCXt+YyxYgYBhqWNI+l0s6N4idi+o7Qgg988E/hf\n",
              "gaZyURPEuoS0iO8vYxgecPfDsS1f2aA/zwmJFXmWHW76xqh0ZTHRAlgpGPODDQaSBIZ50GEDWr8W\n",
              "CzlEImezP5qDqBZO3hzf0Vjql7xquByvScXA2rN8dEORM7lj2/ouBtplzcxCa28YvPvRCiJFprds\n",
              "smbqUnV7XBkyBxG/y7b0dEEQgkYN9qFO2wtKSr/0c1xXCtbZaQwWFbPI3Zv3XvhXrk8AuKBlHLRv\n",
              "I6I+AwYUbo7na5PyFNFRNZQorRUpgS1GAKCllsbwCBiBYt0jp7BJv/a1R7PfpPl071VHRotF3iX/\n",
              "t+1pA3TTbm/wq4r6qIuSirWgDnGsYckE6S5reXyp4wEjHHCGYjUisDvxXcFkmKxoiOixT6jI1ARv\n",
              "ogLrxSbJBoBzz8GP+PDeyccEfZeFAeusFM1nq6IKvaJiIyjkhwQaiSv6cb6K+YrsWbAMLHoip1Zw\n",
              "dJTtMTwN/w+ZeHbBn0yXE0vj+qxZCIO7QwR0MA2Wj8O7Y8sQkmWKFyMOKkqziFWnLCVG4oF6iNpH\n",
              "7WHlGlxzJbVC1VdxflNnHGWBMobl1kSNgNe9Uj79+d22CfXuBSKmEyGfDJ9UsFTvs3j7tuAbRcLf\n",
              "GQGKffl9b+d28P1AM+POcqNmjNgd1XRkX0HJ1JevSWgAAAJ8AZ5BeQ//AEzaP6zEDnwFsYjtkVwP\n",
              "QoHUnnKBXl53nIk1AB4xCvpJCJnjUCMAbmsKV1YC1J50JU7WzaUvmJfQD+TmtbG8uu+ieUWpg02o\n",
              "kIo9S3zgv7KC3S6AqC49t/GYwGPtk8I2mfFZrj/8hel5FVe2ZDzhBlj9s4CaYOUwpg2HiN/S+1WC\n",
              "xuxle/Vr1TFeG5MQ/eXkzjta13+kgdLsNoBPOqPEdDeENSao3wwwF/4jCba3OPdkZEhHsL8w+lt3\n",
              "e9a5aXOmkvCs6Qrc+aOYA+dcwAC6Ozf/zpmANNrqVEJKLuju23L7J6hCAr44/EeqS14VGzpmEsuq\n",
              "+MuwR1NH47zn1tbOCJuRTKMnQjinyivsHgkeVstt+dtN90NpH51GhzcE7FZFzXTBkgJe5cOCm8jd\n",
              "Bwn5bjzNKYjkDPjmIpJVAXg3hZGHwqqIJ0tHCHYivg7SoEFn5yfpXaLHgV4NWbYYZUkyJXs1egNU\n",
              "iU1+Kh0+qg8yysaR6sfSPstaO2/uOUQPwJRVavX2mL8qlA6kmdfzxUl25SqzE+qt6dv+2e0E+Lo1\n",
              "7Y4hY9mweatK7HY7GeSAulMaaJceYljEPS/HQmuN+CKZB1LGOuAsLXdFSX4O6EJgVBMgdSL+DYiZ\n",
              "JeQpGmPklPUsBStR2zoHRJTrXGIbJBLT1+Us/awVH8kMWvO661IPeVrTnxyU7EfxkFCLTpKZS/LN\n",
              "XHC8WB6L/O12Aj1aYwgxOg2rzMlIYp3Q9V3n7q9Jef6D8ABdWK176P0NupHixFGz4Yc8+ixjCmI2\n",
              "h33n0dP4f4Cl8QAMJJcjHH25MsNV7mFeCmYTOxMi/5pn4WoguKNPBuC74hoxAAAEJkGaQzwhkymE\n",
              "Ev/+tSqAA3mulAJk3udoXLfi1fYzf5IkNzjKTkgtEjjy35J0lZpvIjFejALFARYwFw0PuNbW1SjH\n",
              "YD+uru+sXFiTxUVkRTP4z+iOvFBYUrMIpmTaqLmvYeVABUUIaNCCZCG56/cBF1mVMFn20MLTAK6j\n",
              "3gZ5+nLuRj5QI9kuZ2RlabY0e2oLFldSr9XNwH9uAHcLcMkicwCQrT2NKytrZIN45k8ygTE2CCKg\n",
              "Q/7AoGB4DgRw2s0KnN4gRWpMFm/czwJIirjpaMRt5zOVTko22lHrqBCiExUpkLf0vl+Z9ixGTQl7\n",
              "wn6JZR5ze7NP+qF7nEJKGjDmW5+PRp3Hd2O4uVlSWnP3o8+rdyxwMa6zqUjhmspQVinwRsmWv1bJ\n",
              "qClg/nxKDaSNeXO+z4lTwLF07mt8CNvFUNbmjSiOOeZUuSFwPY3QvGsGYjxbL2bb40CytvEultvm\n",
              "0HkoQR8kAyeJ9Hg22XW9L4pxwqUbFgOIBKAe57ASsOp86U5Ec4yzPs7JqQilD7qheaz5+dFZ62/T\n",
              "Me7F2avy6WECsEUzoTHEJ+XiloD039rKsSGcqjzSgWo4oAzwNjDllMP+C5QC6+8uAxpUqlNCK1RX\n",
              "JhjkwzGwRr8mYT4QpILe0rwTcuODIKfYDhyiaaUJQ7hoLu++yFs9la99A6Azbeofo6xVfuDmVi97\n",
              "dyspyKhKCTLO/mOFQmUGmUVllONEePS1kxsrITf/ZmI7WJunJIDFhJkYMUxsPC65dQLMf0/Iyi8r\n",
              "FYUVvGob4Hm0jZB/th+6jsTFlUwFo3PxPI6tmzKMH/RTdk4ANXSnIljLMHhjJ53tyej1jOHjExTl\n",
              "WUlgUijgPsJUPQcFm012olwLanIkt2tVIu219Z+ooFwjSAd0NvfCkqaTOuDgvt35SpottUQ1MIG1\n",
              "1hnnbSaPZVIdlStZrNCapWeyEckpKWJuF/ozfrVswELV0cIeZaBzJ9vHESRZjldG7Z+JVRH3hAy8\n",
              "YhnKyGCpb7CGxM8vGQiqwzdef0Ue4ctCy8F/bD4i/F+1rNRJV8f8sxR2ODMOzBVUI/WQTB2qhC0J\n",
              "NpS4vK/3YidO+k3EczpTVM71YtvKf/wNPQlNDc2MjgKLKg4L6r3146PRxcFKAiO8u37Q1njb/WDx\n",
              "zzJMY+f5L4zFNe7IC3rj7Yhh1tDSuuyg59kYB6rOKOoH/z9FIv8CqbYdAoRChdrg5yA5Gbp3UV9I\n",
              "eMhlMw2rGhumNSJejMcjsbJYRUBg0YfUZOlsw+JoFnlAfTawjudchCd9DJL3eIROkVl3f//h+kBc\n",
              "wnygVzQDl1unZCh2iP7lJ0f74+9Ji85/uIFI0m0iUTv8dgHNu85SwE1VDNfBHUPcVluu8ePhUB8f\n",
              "q9VNrZvqnvVPya6wO4GZrXZtnJJvdcOO2f0KLgAABGVBmmRJ4Q8mUwIJ//61KoADebR8AKCF4sdx\n",
              "jL/A1Z4cdFLlSMM9UKYBepVTN+0b0y0RPJSH4iUxq0pwf+Q4tkPa6lNOHsiHI6Chv3XgS6/L8KTj\n",
              "FEJoNjFb310Kzau5+khb4mD12iHATf8xL4n5KMB5GjzvZ5CKWx9jxdCWHezMWQh2Rk3I5U3hPUGk\n",
              "16ginOMRjh86tB+/Wy7tz0XJqRCF0kWkNO1qRwM7x0KMeeKCOaR1WmLf1OlQ3bhPLObDU9q5AGx/\n",
              "e+3MFCrw7NVfxZwzCsV+sPxTfDzQ78xJn6+PwZsgMQaStFYBAuaAToWvzNXIgV582HpXFu+vQU4Z\n",
              "2hrFO44rp2YToU0GYnRbJxKrIzWEeJ42C1j0L596CnY/RgIEtRppEFdaK8gb8px99q0M2eM+PCwN\n",
              "jmc8PSNWkJseelfM9YsigELjotu7FmfDW3KlROh9BP5KbW1/vjuyx90B2KQsbYEMgzmODAXgdupg\n",
              "VH7Cuy/AfD+SCTmpfbma+nXrp9C3CHrLeu3xbjyKXIH2UEdyxJXi4JrXPrFgnDctJYBxXda0vmmZ\n",
              "XC+ydamN6YV0Lifg/UaGJePNPLHFokqyh6wKo6RJXo5TPIK3iA939+cjdHnwV2xLSFv//xpG9Geh\n",
              "7KSELGv8JmLTrbq8OAf2XJQKq4M+CWkwUyDQKDjxHVSa6cP+WY0Br8WMcEjfmB9wksX1cus2K8xu\n",
              "qsYIpYBCdNM8C4XutAK0aN320wWrytGLBT3sZCfgBFZspAMDz1lp53vqEenj+Fyie8sLKrOP+VoM\n",
              "BeLIRwruC5uBg0IlmRhZH/KZBkI2TR2sH0uiiz/hZmLVPyX6KEPi5lc3coEkPA6ugyLMeXzKFMjv\n",
              "J8yOXmcyP1LCxSfz2OR8Y+inuHDYcwxRQ533ijNiNYBbJ6Z5IbDSNNVWAsJ8yHt24HDRtQt39CYh\n",
              "MUhO5LVWa1l+yO5HKCEgloURHnle2lEeWA1Itqjn7Y/UK2h2tgNmAOTVwVY2/zi5GE3kW9JtTsVb\n",
              "44giB/h7X5Q3dABAcPwfvC4nlM7ceZ0pSljI0oZGrgpPHLEPwZhlYfcLJd0InhjqoV6/LIEhBHmh\n",
              "5HpyV0l3Yj1G6b9/vp0oJjMDeP1woBExCp7b6WpTzlz2HwINGlsfy8zm03h7CFoDgbryZKGNzqYK\n",
              "IorP8XUByqOG2OGz+dgag0Y0qMUV6rmCG+k6IbYerHEZzYkwEcPCkQTG/d9xLOAgEBVHJeorDvDC\n",
              "WAXImg3UeFJ7PuYNEuNve+vs1fnZ/v6VRu+FxVmn6PqZfJwvnkTgIP7fgugxgraiFURqG6U426SN\n",
              "Y2FX6u+sdQ9E2ky8ioh2FFd8VT3pSMayWVshf6a2nZgaUUtCUO9WqB2vlgO85e7nBIhkvgmDIGJT\n",
              "pAzlbYgl5B62aOfBfAoqi0W/AODWW7lkDrmY+9ZYEDp3JJsYkIk9ujIywLwDfmqG5YZ/E++l8rlE\n",
              "EqMGTkT7j+Ef0Bq69bsZQ4EAAAanQZqHSeEPJlMCCX/+tSqAA3mulAJk3uMbuLlVbm7IhT7j4GJb\n",
              "AOKQEHmAnFBEMKrjVTC7m1Ykgkq04P/IbGfWeeHVCXxjl16l4TD/+AK7TQeWwhncSyLXRAnvpQhp\n",
              "KaRq27yCVvQSzg4RSpuky5Yj4cn/0tEy8Ty3UrcH7F+6sEHCfWbsC9KM/ZbvBLbyrvBFyT9iqO7s\n",
              "RfEbzwebUSpJanbH/CPylkn168eBEcidabRod+LUemdztuzHueemwA03tti4TkIaa3Lp0cngKe51\n",
              "FvxJ43oXygr8yYNZy88hhPi7+Mp7NT6HrSQ4H3Y77FJNvrPayLuqlcNWQlUPQjsAJEL54N2dLRBU\n",
              "JL79OrDp+Wt/2DvO01pnROTkTu+Kc/tapqE03eOgVsxgVGMwD02VO5935mtVXT6us5tpPJJ4uWZo\n",
              "rfWRMynppIgjo7RaQiC4x4CvmG0ueYEz4WWA3xxvDQ/0OXKYfkO+0eASQFjtEJFumOAia8DjVeeJ\n",
              "pfJbLTGhE82sawsNTMeMaZOQNYNImGj1QyM9tu53cBNARXRtWglIjrc6u/z53ZcyNb+KJnItfju7\n",
              "X0GEIUoKJzFj3rc9jf3aWVaMd6lltidCrdYcxI52vcso4D0b933aEfLgrKsnVFbFXNUnXllASuF7\n",
              "ouzFxFRihJNai+JG/VE65J5H7I90nhzKgaBBFLrGAOBZy6TmxQpmI5imCBHmyCKSaNVVNk87Jwz1\n",
              "Q0FhH4QsViP99itzBci5pMgAEPuNIXirwSdPqKrCSRq0CnPrUeWfbiTOc0+bBNypycHeT6oQuRwU\n",
              "XQo7/6iabGg5Mn5G0Vx0H0AKlL1uZIGJXE0/tOBSFE+lsb9zSKaSL57YNUO/BpX00M1uCd/EB63V\n",
              "u7GIQFaue/r4bdE5A7SWvzB7Rls1oFzGC5Lyg9LX3fjx+HCNtV2A3aK43DahEnI7x0WMWvKRVhSX\n",
              "FuAPlbKKC1ALZY7cn5SsGBLxVDKisCM9h5saPPrv+iVfKMLaGDRcrFAQYe/H20Fd90cHqbrP2PqJ\n",
              "7eu5Jf/tyzLE6GYeh8YpeXo2lS6SjBXgqFrXdMQcuIb/QqRQSZRJ7uAalNG04D+mqRn2LQrUk1yT\n",
              "gbm1fttMxhPxMsshulZab/y3NVrpuzEvPuHx2HNjqIlhQ4gart1IfzkTxNaujV4C9hv62aG7prsU\n",
              "smvB+o+jgLxv78uHy7wccDEKZAXK/MeLhvYV70RLnCKPnRLF3O8Un8UMC+u+/Pcy4OUYFSkFJW0M\n",
              "fDlBBujsn+xqlEdbMGyt6GSWJKiZssYcCT5Iy+80yRviBbiHxJwY3xfwTSPH+2mNpZvrWAGGQlxf\n",
              "AUmOdaKILbAKQGFy4p8XtQLBWuqpz6WXsV1jSS2/P6liuSbgSYpxACJ0F4TR0feBEpZ7MpO+u++e\n",
              "2V0Cgc3be4+YarwGrF8tvTwMZcZ78VPXN97nolJ9PAhAEe4ytZXc7L6HuQ0WUrChCLWcvorMN4QJ\n",
              "ucLuRcEh10psjuTokEv7fsv2SjHzoApJPzoN2DhzX2oE9aC95rdPA+ljtciKALVTDZILS9T6/jnp\n",
              "CLQcouNIfbZtmRE4ZM15eMi0PTkNtvrt5EtcXhCE5I9/93ph0Vj9k9C6PHaPQ9RPyX7PTP61wbX3\n",
              "Ri2EWyt8m/akpwBh4YH1ijClNrondsN4ll7nQpRLof+oRCYO4jtVrueKnhs1CI7UJ5idC8euIGxr\n",
              "EvWDRAhr+xArWwPbS+x9iEEtq5zViLp7L4O43KrcOOLOBTA3LHjja7bm7ZGiOJZQHjaSMlbPZYrh\n",
              "D/UtkjS74ExOSc8SUCYLZaLDTOXHXCaxfhJqgij0f+51viBODlHO9jKcSMnjPLEqyHVIIj/IQkSk\n",
              "Wo7lptU4QJf13M6QUmrQFhQntqLsgemXteZQDnwFOws1UlVbf53/nn8VHt30dQnl8l4FCQ+7p8sy\n",
              "7oSL2hG2UI8TkHGDg9M3ejweq+qRbOF3fVVJRQpjv65k6NEHmwVjVVhkTOV+DDgKq22hHB2I82Y8\n",
              "DlAv2VP87TdwOKZCLkV5BBtWAi+L7uCOPkIZG1Ybt4o3a6jYq5w8nFvP84gu9akDUn0X89A0zljQ\n",
              "zR9QHcgYfN6sUifyYnjBR325fHFBPqTpRyN73cdccnJuXr8kh8zd8o4XOLm3McVYxcEbKKbnLpEC\n",
              "1y7umW3l+QY6o0hxGzGxiJYHuQkvVtBRU4CPLaQuQvVNKfggQKJ8spL4CiDcAlg5YZ73GhDQyZqZ\n",
              "JAI27QVUyUNZoWySslEAAAKJQZ6lRRE8EP8AAI6trqy1ErRcdejnAAJ2YcUasb5e4wFEXvenw9Yr\n",
              "qBPH9Zh0h/9YFrRmK9UFPDELHQlHr5M5Ih8pjQN4ixalqdWV80e+tJ1lQsV7gLopu0anT5mhKGrr\n",
              "JXm3RjuDauepNi6xCbOd3QorBsarmEz3Wn0w9vVwvwXSB0DyM1DO53QXn6QSgTERK6tujb78ojyd\n",
              "IGgLiu0bBgBhdG/QQ/yUKwnAN6DVUWQIpMXN+qNdd7pzuIg4pbJjNtIUVl3zcFZwNmol1HOK2IFm\n",
              "lXVj4Jw+9Zbdzkb/8MjiJE5J41D+vsTLWoSUhlxQL3SVxD2Yw8qHPdr+JxQnMkvqi7YVzKXYRwqA\n",
              "AKKd0mdeg/JmDZY5qcwgIDla3421gubo+iAIMLlPMe/SumbyPbqJ/EPW8XT3mzsPzVaExVGYuB+o\n",
              "Jtgg95fbXRL7lFUiapuL5DgsrETCAC32CWSglcEBmVeBrcsvDLMXCgSa6ufU3PEG2kk8fNzSR0jb\n",
              "U8pxjoNtj5/QhtlLjj4tgeVD/jpBT23HeU36goZeCv7qp1kU784zjkPmgz8pTHDnJsMIL+gLjngT\n",
              "AUSMt/53TQJvHD5rhZVanQVAtnKo1OGLonBL4Bg8RakoQIcKhrXgBSMY/Yh8cVm+gZl6JfaNEIjm\n",
              "8mF9BAAHS3cAKbKiMjK4UVhw5rjBpAjeoL08mGyMLdFa+RhJBEh315OgNO4OJBxF12J/fuLN8eSB\n",
              "3FYyibQsJoxm2KGi2Xq9Vpc8fXyR6WHPd3I6+hPgjEyGCNo9KBmQZQYEpsngnWzoUobdiPq1cRZV\n",
              "7L74f8T1cA5VCb2uB/SwKso7mOixf2LwTVxOUkpE2Q1kGvI0ga5lgQAAAfUBnsZqQ/8AAT5PAShi\n",
              "DNz6xJUBaTJjEqGkxeABXSSLHAI96H+khZM0dXs8/fmL5oJ6QPEq++RzII5Hl6QvzxmwwRNZtl9b\n",
              "t/4FcebIbrWwmTROTkGLvWNnFSUuG1sAUw4lr+dPGhqDiZh2+1Q/CTegzX18xrNp0129mILqjEAJ\n",
              "4JWyCGrK91XNNPY5IoK8dkkmHmwJYUns3fmPixm2YQ2Zi1TSTU6iV5qAvm1yGcexUBRzgiErfX06\n",
              "AseUJCjPgt7eAcCK0VRJrwpl+CYMOrjTqEGhC6/xkExStwy2dg21Zq3ZESm+/5NAM1ge2J+gAPwt\n",
              "fGg6QWBrgwbniSaLfR5jnEQsdleJvwUVhCXid8qBW5rWssTOmXvPa+HJJQ+PJBlKvyXv3aqfU4G4\n",
              "rwhdc3zBC0UiaousTszL8a2KiD2Cs2tDMVuRgT31zdTPznDBH70UQBmmMX4Y8iDX/De+xWyVWUnp\n",
              "xE/FQALMxVIT7OojQvEpFk30KdHtyI37CDlbDME8LxMjrzXJkKDxR1a6GcdMXbC1OALpZNlV8R66\n",
              "nEjWSp579FbrpCbcOWcLbuxtXsIxSadTGpWHjqolgdcI3VYaKlfxzB4rAc0WiwypQAYmbfd0gRmd\n",
              "cHVu8rZ+zJ6tj+kZl9VYXK2/a9tiyV/JKejdb3zTekEAAAPRQZrISahBaJlMCCf//rUqgAN5tHwA\n",
              "oIXjTRZHo/+B5SJoxu3RkIq3PfpyZ6H1hHAWSMyTxqsnWwF8GC2biim0Z4ABORmcooONlFulUYN8\n",
              "a5nc0Z2ObGvKfYmtyMxZmUpFEJxsA+EVNqHbQrLiYJrN/ywhJnmIap6R4uPKNm2NrsNspKRft+cn\n",
              "0DgdrmwBqMzSPeH5E6ncn4CNjQO0Tay92fMUqanwBJD+Wmyu9niAVrwO1XlMNZTwmH4krsUaELzu\n",
              "FDOEIjUejSiQAcxyWdP7bHWJwHn9vWzEmvyHA4Xiqh16koDA68Sc/zxSf2a7hCCBb4xAenFzeidn\n",
              "+EJO4MFRgxW9HFN0J/2bBukdW9kktL661vDxIprE2/nrb3Y4qeMjWWBxF0XWCrKxtfeyX/Mgcg2T\n",
              "DPRQ2rCYRtvQcF9OUsXyfbGrxWFBVO5RHJTKtDfgR7PU3w5rn7Y0eWQ0TjYrbrYTSFYE7SMaIBCP\n",
              "V8UzI9n3fHhepYKcAdQ/pidhwoJ+ZWbqzRIwnCKTYIyO3QVHnSbz9wRwpQXyqYXIlb7MytmWQykz\n",
              "/nCDb5H/RAS0f/6WvK1PCuWjWXElr4bHNpmxDiB8r6ZcS0MaijLtgzVHs7Qld8eZzIOM+hv7NAVR\n",
              "OGkdNZCowG1O5TXB4qRum3BHaoqbhokiVGY8gZG24p7wkvl07LM4Xu7hB06rvJc4udz9qe4qis0B\n",
              "u/rmIPUkpIBFobrMy/OwRfgqaKe7S39F++hzVc4puh8d5mgZBiEkW1BMfV6l67R4v43GrwMZOFGz\n",
              "727MVss7oaFdKmM9+pqX8obmoBxK3tjhmDATv0LIFRHynsJT/57a6CXHqzT+3nwNI7U98EZxhvUm\n",
              "roy+K1FkrpKygdJm0i97pQLDvC7Ocr8kcgHUfToCBFeQKEqddk5I8WFZTqUnWo2F9PxvgXTSsXdY\n",
              "mOv1iUNMqO7LqEmWPsHd49R69M5i5AvCjd+KPkNrBc3Rgw52oJf/KsBSs48rkZE6uBb6RQSDpe2f\n",
              "D14ILcb4/kiqafgOZ2NPfccPC8jUQaRfs/ujj6PsndqfB9X5sF+ZwWm0qFvXvRE2PUZ5QDsT9JTd\n",
              "lH8U+SVeMhmRakYvmgVe+SUZJu/B2aFWpTKmqloRSCVU7vpWYMozshGKXha2VnobqFI/iGeKYUTh\n",
              "uMbwbJGTYNq/cjqSjuOp96pBDlf4F+sfAaKnFnNOVSk/UUjH/nI5OdK+9HhrWs89T6y5bwwVWuRA\n",
              "ebpDhK+Qv2Z0puBHsxO8khTqfr9r9ny8Wzj6Ia8UKCREfkcU7q0sh5d2+9AAAAZsQZrsSeEKUmUw\n",
              "IJf//rUqgAN5rpQCZN7jHjLloG8fV1JJZby6RES2k5l2frtbgonQ/CwYdWJuAtEXhGONUfeRf43x\n",
              "xvCpWDMZr4HDgKBK83V7F6h7eqXErcGo9QdEFCrtrkWsLTrlJlg2VvexPGQC+bP4/iWWtbaRCNja\n",
              "8BZUOq+xH/geVR9PDcZQyNeug4zbcPqzinqrT0ZJRRJEU8TMPPO/jJ4Q8d1xiiNEdux+xlZcQxt0\n",
              "D6zQCnifyTWHQF6GFqFc2fUjfUW2TbyD0aoq1z+ynWOpwWd+Hwqt9M3DR50UD1m2w0V739gd5Im+\n",
              "RXZzWzenORm+ds6ZR53QYPw31BQdcBi2EU1oVJus1HNEPS8b6TgNVpMpOpVM+BufxJRzzwRSV3cy\n",
              "9bhfceiWO/kep2meFHUAVDBDmIHpswgINqqjoYUbwTEM+7K8Mg4Z3FUT/LXAGk+aJnfMHfxEvJiq\n",
              "Fk4T7Qq+6Obi6OfWqO8TJalHh/NudwS6Xe0MIrfYreHf5xJMLASaU7A6RzMmF33mZ2Y57FauaGMX\n",
              "hI/ixjRgPuIPpYSnOS/s/S5Yrs3fANSrT/ii8Q9RPrdZ01y+luoFVMhUEmDEX2aahtgodlk4zdMx\n",
              "xDDSU5EhJ5LUiDiQdrvdiyoXN1W0zbLVsnCg2D07aIi4LzzFsPFWlkh+ZewzppBRRfrjICJop6BA\n",
              "d+ADzeZteYq2IeVT3aSK29VTzVBJFNAG/gkDFGhHXyyp19j/9vh6K/OqXeFdWlfOyH/ZYDeoRj3y\n",
              "spKPiiGuhtwDIgagRZVi93QLX0B9wlBKRg31j2hMYTvzE/AHiJEd1aOtDaR88gxXrMdQtJoyHyQl\n",
              "A/Du/4ce4Ruu5VPvnY40NixAfWCzO6LBLJJas/pOcLIKiW1Uh4ZkdXXFjSTDdo5kiUf63+I7iV8M\n",
              "oq4C33TwyiXMznAr1DWlggAlVk2CTUeyIxRLp3trU7t6P4Qih9eIro6/vPXPBrMxt5nzrpSMbHvQ\n",
              "LYs7zvARm9j5VUAu80aTBf9MdznwFORZrJ7vzBbepAp6i8OxixaQvsYuzuhSm/j1viMAAZmXSHi7\n",
              "jX0kbg+xKJ3GoBcaeEgCLXJgcwptaf3CBujiwFCaJc+Wmk9oShMwZcN1U43FU4Gf+QrIMulKeq1j\n",
              "/l/Ne8OhPuyIOrY9kqpbvvYSnXt1qm5d5rpiw3N8iAqIybzAcoWUqdpqfr6g5Jh8WZccfLC22D/e\n",
              "pdrJTFOKktUv0jUHotzGjt5KQJZu0OFd65gV++3T/JEPdzzl70HxtPAW67DIvSiogn3RL7cMaXpM\n",
              "FGvxwJ0URS6qJS0K0TBMiY8y24Dsbg+CYTv7rjXUtmJmVHG5EZk1qo1K5hOLRNnXYQxMrg9RAUyb\n",
              "rgae2ms/93pMM4je7VLpJEOpqlkIUZcNhN19emw7CPAwiVWabnMRF97p7fxd1hoU2uIKV5jySFpK\n",
              "kAXqNPcx1HP+HfPRjf9PxV8FIZog+hthmzFLM4omGBAAaIDU4GVI2XtJPNY/VB/Kl4ubH9cirxJT\n",
              "HNhwEWgps7ht6rkCJyaZi3dkOMo6bL6zLVt3chv6gr4Rj/qxD6Cw/4E2je0YJL0Pf27PWxwAMCLd\n",
              "Bu+eu1UNyV8MBdjuIjF60saIZI6v9SRSkKqjoIdgQ9Dq1rqAyeiqiawuxanju3JcdmIWOZottwjT\n",
              "502s4+S5zKK0UKcn48H6kMNaF/adcZ0r3yabj1L+aI2ZfR55Bqj6sGLpgHdP2fKIyKc80qmpygVO\n",
              "rMwHcF6183sNbhc7DFJkM4QRo/ak99V0XqV2WlAYThTeGlTHHMWJwgQdl44kqfnY/o+fwwFacEQc\n",
              "6lNbgrb05URFOuHGuX/TSZYQ5UkOWY4uHzAMIIHD2aGjdsAKtjhYN/ueClp3luj/7U8kGyWmfDG6\n",
              "Ud2CoG34AA787e5Inpq8nX9YBSznj6F95Xq0sPnQeurVybt7N6ahqmNKo6TuoxgVVu4zIL0jzRFu\n",
              "ylM6ROCVB0Wa9IIdP+QnmSTWlLTOGjC5L97oHCsZTEyAC7t0xalEqLakIWg9IryKC/s4Ls5NPILC\n",
              "MRUQAVCWS/iQVVpENeCtE04IDaZvA2CCTN73ybhB7fN8Y141RhwsdDXJCCpFyhcG3EP5AVXgWquA\n",
              "vMtavImVhJaZX7FMxO/DoltOwHWuh8RGeYRFofHtoHOwZLli+XCAAAACckGfCkU0TBD/AACN2jD3\n",
              "4g0IH6gAcPtuIBay3IKgJ6tdiCXFVImOir0vq9vLAfDkAyilFNOLzTAtfJ8f1VZfOt5VW54NVzHS\n",
              "t2xOPLG2pkzkYq+djRPsKR0Gvytx6XJ7UCaIHcLo53Q0gl5Aa9pfZxFoeqK2YSwSJ2qNemtNAtOI\n",
              "UJThNeFgbu8XzZsnRcnct6vb8ArEou2tghXQuNaoZn1zG549AzxOJl41pxWCv15WeuEewe1A+MDW\n",
              "2NP6xiecAehwlAGJpptqgRCybH/Av+nB0nWo7H7AN1W7d7GSq5/g0fAO1ZDQHO7axzdqkPQTGHgk\n",
              "PMzNNzMC8Hz2EkrHil/cyVCNpvVKWVOa8OCbGoCm7LSUHoX+Zyh9FglEg9pXdX8GTeUg6K+522s1\n",
              "mzCQEkVKRnebOxg8Nwf8pkToHfrVptvPJ70wG1ubFVYrYQAOgAyJ0dTJV6gjw6LCX5yjwV9M0WsD\n",
              "jSBv77mdlWFz27fuos20tlxFwjPcxyJjpdPV0OXVzYc87fGOboC+wKR3MDI3jWQbG+Uclib/saIz\n",
              "hGdTXCSSm5efL9xYCucLUnBg/aDU5n6FCRUC6ltUTDVdDZDjLWDSodoEMaYlXhp41Oy5/wIBOLQz\n",
              "PtcIrOFx6CDQzU7vrIuWXOmMAtn2XMfSgyJXCFHtElMs44XvrAuWxtIdmXgyFwA5gMEJKJuN1TTd\n",
              "eU2hSjcP7waIRA0GveRscJMhRiM1ZjTHKnOvThZ1pJoLEu0TiQSyzhV5Nlnzf3X3z4DVvQ/Xf/GA\n",
              "E6HHaueRq+GTXvTvGtACx39+bym6HqV0tMkGaENVXbCe//Lb06Z/XKGBAAABjgGfKXRD/wABPSh9\n",
              "NGniGHJVclbEOgASh3w7IqNNIrRfDhGN13QHEdt0NQHtHmXuVUoiQXQQfgZogg5+8Gweg9Szu8yV\n",
              "1dged5SxpCSY2wufkQY9ozUFMeZGEI50TnyFV6ynTG9xSj5+2i0H7vOQkNRc5t2hFHkJWs+FIgou\n",
              "r0lGJj8ePVNVHvXUoqbOuxpKiFF+DhKTxxI1DdaY+Em65WOm0vJQG33SvQf3INMjM2Z+docpZjRO\n",
              "Mvp4kvjkGQ9MxxRbi4EJKas4Cq66xnh+wOf7OABPdSu2UCbC9Qjflee7avqNaVYE4EZOHPNeRhXT\n",
              "3mnhKo2kpFAlyJ4Z5IIIFGwAGhS3Qd8pmMALz86bOO4PBZ0W3/2HtPRF/NcdUlkXQ1iB+SV2ll0Q\n",
              "WuEtn9W8XUdXWI6ktRytiKXY+wFsyUG/vBG2LdZQDoBB4CcJ3oC4P7gkiaP/I/pyQEIOSUg5fxz4\n",
              "zP3QBJkzsfquSQ1mAvV+apsxmtdCiiX/XGM09K6NCHDFC6Dhu5SuNZfLz79gAAABhAGfK2pD/wAB\n",
              "PKECuq4JsiOdi9whX2yHAAlBAvJJujjILXHO50AOScvlAFg488HCSwwkMBn5WjM1dAq+RBwBERpy\n",
              "a8f6ihGbM7WFYEt9BnmzawMumxAiKaVXaU/bKv9EAXQrud8XV+p3Ces+s1QSswt2lH54fc6oyNeN\n",
              "bBCHdw7VUezTElga1vJD75vrl7CyO657vAqgVzJNO9jZ4RqPHC8Zr7QPRz6IvurFzM2Wmk6eOJdp\n",
              "qP/UKvRsjfbOwP5xcV7akDPwyt9znhh3Na0JIQ0Uy+Dsuu2DVijQgK7n8liWsQyBWi92Zd9HlpmW\n",
              "BFQgWil5Vvdr67qhdzS2R5sM6I8/uanfIO7q0dZzqqR+jX0llfnhs2UiYqxQPCNKRzwD+oKcPBef\n",
              "Qf9OWT+v3tzCTJgwpeqOzFwlJ1uKhNYaKm4ljgzYas+mwbnumF0anKgiYplW69OCSvk4vU7bRj4n\n",
              "Q4NXbjbwYogDpHxS8uR8hljSRYoQdhN2mdcSV+SMMH9MabLqfsAAAAN+QZstSahBaJlMCCX//rUq\n",
              "gAN5rpQCZBhoL3FyqtzkgxSX4+kgowot3VaKobMz65HFzj+zTAEprEnqqu4eVopdeu5ahktIICLC\n",
              "ZOz8fNsK0WkHgQr+Q4OoVMZ9jxs1JVPXN1QIg6Xh75GCkm9rdXKlZmTguYkXyc/kqIx+zq9kskfe\n",
              "YGv2CsfT0RvNQUyBY8+SdllIng582LNlFarMF/S7HrH5lYxChUHNLiwk5/Gi1HffDuHFBuseKBRl\n",
              "ROJp03rldc3NglIAWriiYDrTanUsNIKA9abMwZCblmU3MpmS9GOhW6W49C3cAzOOEPaYtYQCaR+H\n",
              "EXWRL2DzDsJ5VVsW1GxQzxlnEABqHQfNCrjtkxqQNSIz9H4ww84Zm3WgsAz8ZQ1sf0P6XZRgU000\n",
              "E5mD6xlOLfEzYKpBUH4u2V0QZu2h/weQhOGBnHuvtNpvNmYXmwVMk6JJjgMz0Qi7bCaag3PUKlMT\n",
              "WDlChwz0bkcLbR2EB4ZHH4SXBmRSHq6/gtqsJi14SHCS6sLTKJm7V5YqG8h2qOK+uWgLe7hF9I82\n",
              "c8OEnGmua9TwfGwTHxGbodiMF6JF8fAphjt8bG3Aym44+paqUMZU6UnpRz3OqIC+taA4BacyPChf\n",
              "sviJ6NdhDQkwa5WqjlltOYv502lMQ9XqdvVyJ2Urggm4nVJV4BZeahNiLAVwIKqXvNY00KTsRkxz\n",
              "OCIauyRDRK3YUcmH/rRB6FGqg4l7gEX+LynEAkyw+5UvOV8UAqGXfoZnAUnQBBHSU2XvQUWR9rPx\n",
              "ld/W24RWK8QMhTAIc5Mf/DfsSikg4Kvb7PaGQHzUHtZEp38XeBDWOyq+FAiMb6ldpvVEPliACuDE\n",
              "h48fz64ggP9AkAC/ckSWDeSDKC+xTvmz2qacKoChSoZZAO9UhcoaTzsHDw+B8INrlsaM+2V1nB2M\n",
              "1zBT2WE+fQ9VVYWxf2SPimU4GiF/3eIukmguZot3s+YbD3UephxTWlPz9jbt9uCeb65QhVqrVaas\n",
              "3czvsMgi0NJoTw2oZOA2dcAle0nVD/jlCu6C/IgwUiFZ3J3uaB6H7iHV5d1AQJ+Hz8YSISdKqjdz\n",
              "1tvZeBMWJk9xDQjV+DBsyMDs6R9PpUr1O0ndrFbHsjvSHpVLbT3DQIGFwgkKuNrF3lovbx6LqEdL\n",
              "xVqsvBM5wCfhBra2SsmzJu+k9pV17AXTAAAE30GbT0nhClJlMFESwS/+tSqAA3mulAFBb3QYa67Z\n",
              "KTkRasJKrSVohmGa+Gl3swHQ7W2HIAcCaUFgRDgQUBbXqOg1tBOlk1plCKHqU/BBSStQuqDl/mpg\n",
              "sQsO0b/fd8WBCemT40oqlqDck8vQ6fL+L+5P4giO7im6ejjBco/eukv7lE2vxjFBRWXmNOZxKC+q\n",
              "JGm0Zpou47hBjmQsOtC9SjQfYnGAUl9tU+uDUo65/ZL5ZWsshBR6iX04GlxYIOl2nQZurJ4Fuk4l\n",
              "F32RvMWgiCjO68015slTcDCc1OUmh5LetYpup5H91B2YPcW78s/fTTVQcp4ntNiYmgHXylDn3Rqv\n",
              "2jt011FZRaqxuSyrJGs3/NkHgChi4K0yMlzBT5+hoX3goh11bNBUTHpyCspURCUKc21f6nZnbLWT\n",
              "He+4AWPiWOnxY1IvBvuapjIq3pi4NB8M6fpFzRzsD+X1N4eCG5mA0u6cqSiGTbNRrJOjAbL0sHge\n",
              "jAuPVRPsV8C28QNAYMiao9j8x7M5QzEA6K4bYBlXV04RYytd5EzHy1zhpZYaknvl8zseM/Q5gkqo\n",
              "UGX/JTXDhxLWD1uy50gppvAuEIagqxvD/VEu9YnfYaFUYL2TfCVX2H6B227B7TkZjH6vqp16dEy/\n",
              "9t14DXb2qQ8sZpqlInv2lk/9VQRYKlZKVN9lvTx4ghuaXfissAA+HCltpx5JO2OuBJ4HMWKynLRa\n",
              "2Bj8+1jJMneP/sQX0uLbaNG/6PyLvV5v6KsVCAOauzvKTL2tJPwcl/lpF5p74M7BgVmq0mgJSHAs\n",
              "DoCbq/ABzeguTlrgfu4lj7gVw5iGxhOjF63MBwnxXG2qrCTV8OCWTk8j61Nt19fQS16zVMVU26Hm\n",
              "qSFy6JhJmJ8tfLAdktCtMDGJ/xTn1BxaVqMY1TRPUjOfnP84FkRUb85su20Z0fZyNDoYgoldUFau\n",
              "BYbjU1zouA6nvcseAUpVepRZZ1xpCMrgcq10BN5RsvVT6RXl0c5UhNjZPa9VmKcMHMSN4UT2YPG4\n",
              "P5T//JHwlv5J+wt7HQjKlOF6HTrZ/t09LX2EzpoS4c8aEH87TpoF7yoAoPx4jt04HCJn02xpepNh\n",
              "Us/8mChcF2wrxM9T6CydNaSSgvG9vRPwsvm+VuiAAU6Zd2iRAb4rXzzh0TTgp9mQYIjK7xZfYCU9\n",
              "1KbDxEBZDw7uwzlY5vrxhTN0p17A6VjCUPBuYtMNGJYrasKOvx9MLI2X1K5veOjm1cu536He1dHs\n",
              "54IwyPmv9ev0gcnoNDihXqa38mP7iQps0K7BFWICuMyamG4HCu5mjRMaBGTEI4oSMqbXIz7oxYk4\n",
              "8glgx/m07/rg1Re4O3ul7hoH8JPQKD7j9vPqBeEKUDRFxlZI340/mImB6xEn8ndPj0o0/C5HIqSJ\n",
              "v06RYTBEsN2y2a7dbJsKDaX8hT7L48T4B2cKxIvFvDjWQC+Ay+fU8G+cLtMrl7dvampdOXr5WHCN\n",
              "IiS0dj9onS1PX24J0r2SsoxVqhCX4zeYfAH221qfc85UhQdZkUbOYH57OT8ryK3u2jYz+pzgar6u\n",
              "VqeTySMl34UWw3bWNxplSnLeG3oWJqKsiWZi7hiBkVTkku9eQxarKMK+GHEoFTnFoxksg/PdTpX4\n",
              "k0dxCEKwJJDDTSQ9P8PkMZTXI9tJAAABYgGfbmpD/wACc8Sy4O5EAH9IhJ1EnjxkQt+ZowoyZ7hr\n",
              "AA6aeAEkYQz6ykmCfifkvrVAZrgMVQg+HTHIbkoFq0gDLoD4ndPAOc/9Mri5cCAIFxXRNlm4UlTQ\n",
              "WFev6XNipjoP/hJZbh2EpFt2+6cyZylW02gIHevWBixYSKaguKwK/O5BVwuyyt5jWEf5XBY9tu3N\n",
              "1AP+Lc0PlHGGZMFhKBYpYxiqnnm6DwhnlEFY6c7vKeCQD8mQ5M1UnpP7FpjmZFQCESUxbL+3O88e\n",
              "AStU6xULPDDWmoBGmULTfK84wAqc2eruwiAduwfwTFbMAZa6PuOtMZGcsXHL/yoyH2vrIVdl9/J7\n",
              "CzO/iYRBaxXfDDCQ/b0mvVzHrRCfVq6aR/9iK+aN7CUYrLk1uz55rPePfLnclhFPbX72ESLqEC33\n",
              "+BXWo7CL3mNRQ6eWOjVNQN7OLh+YINv7ajnrtIsouGOL4p/LAwAAA5tBm3BJ4Q6JlMCCX/61KoAA\n",
              "45Uni40gBcr2e1QrMw63kLt3YG0pherqcHQZcL2qEXmS4dAiEWOf9EzHkpv9DA1oolnUd011c5LJ\n",
              "kFaBXTWDoicWPRoheG0x0zhRH4kuSr/BM/iMBJ2FnpTOmQb6q7kqHIrSnzeBlm/CbSjVCCmdDLdS\n",
              "R+2s83kuWCMWTKeli3SADRE3/NA/pmU2QN9RGbizWN86M0s6reKVndleODkA1blQN4i04GX10Bhf\n",
              "h4Vp9NjXIAiNuAS5Xv5NtAewbhMhlNBoy63qmGMzpLTPPx2bAyPQv9QsFu4RlKbZALcq9nnehvPz\n",
              "lhT0S6355fWaOSYr1x7b5tzmzrOL/0E9vnW0c4YlMsD9Ec/DS50eSwRHjm3XvoGgrkb1TSp2IbBN\n",
              "aQT3iz7Zc/sHY6NTleLLKpk3OPKuE3HvpIPEuTOEhJPgvqScDOHxkqbwrNC3zCqQ8l+y1vtMySYJ\n",
              "NFLc6v4BNPBZvzfsO2WPPCC896n2NNQD0Gnl/ClZGJDAamXzhs2N0LPLlPN76sQ6cQs7/2dPxs/H\n",
              "oouoQLmpka7Syn/Htfbx/8wlHUxzXMdboQPMhw9a0RGrV3COzUhc5OREj8SoqOtfvFnr8XRPPv5a\n",
              "q7OkT3cgkxzHC/DynNDN0Qyjw/bcYIQcNMy8aqVRE2DFnN2rUDDgrGKGFPHH82tTS9OgRa89QfGj\n",
              "ippZPXEI0G9UJ/3mXBMHkMpJOfTHVY7KDro+CsJZT5wT4ZZcLp99exT02Kv0aY9OytfbnnFbOS4n\n",
              "W+KpVGfVvayktOmRftzNBqRQq9BxJskBZuVCvvhw/o+WP1fxtiTdyG30o0zNlad7YWxn7js5i8r0\n",
              "fqiLV7bT016EaG9I61sVw65996rhVe70BaR1DXFTAlzKOuGumWsSsCJ+p9K6E9mlW+BhTJIZZHiZ\n",
              "vy27KENJY83nV9OBljble7wornMjTVwNrNI6XwdCDzNsZPTiHuejZ1cc3C/4E2syiWVBBwjhWokx\n",
              "kH8Hd1ai4brqCx+v1WqELuum4UXC2eSTj0bkzlKep6ux3gzSgHMal5FklL1ZrmoQrOU1RmQrcZ7+\n",
              "/wqlXi8Avs+0LqRxnyQCjDDVGJL5D931QH8pbZvpP3zx8/uAEhV/A9lLnInrV9B1N3xyYSTVJN6M\n",
              "a8qFn3iL9Yop+ZYHEL3msl/DZye9hAA2/h9PGy5d/OKjahub4EwU0vu31FWZ+oy6hQpX/AAAA4FB\n",
              "m5FJ4Q8mUwIJf/61KoAA5L2c7IAKzv1kOVajjlfniJJqDzTn0SNKGaN+cRMWLuuI+OX9ATNXBUxW\n",
              "6vmVsJIag/7qId0G4KwTeXBMkxyvlP6UPTdcHJFUCYGfA0H7HWXUjJMRuZ4d+LF4WaC77cgHLUhG\n",
              "58vNTjwTIsWFvThqkm07cpw7peSsi5MuZ1MVen+gaA/0YZ38mu/jp0K+Fa1fbzSip5TmCUJO0mLs\n",
              "SjuWB+GtVzA3k138g9nHvfDgjGLOclXTsXbcw5lgOBOoKtk197l2RwAcKkROYYK/nB6uD+Wsp1Ve\n",
              "ePT2cVd3XCX6fXIw3uuaLd+qVhwAFoKx6judVjJWFKcxEoG+DvUlj146hKSk2PaEguq2Wgafl/5X\n",
              "pAhp74aZYT50IryYnH9oQiwsdaXR3uo/PxQ3lxC2DLwsUpUZI912GbmABP5ZzB5IdjrcJsIf7VkO\n",
              "xKwZ0L0rB0X+pmNXE8quat7IBPsXFt7JXml4VQej/mtgd7I+QOEU5cK8w/Iv5BIMrL2bHgMvbxtM\n",
              "MmIYfaZZ9lIMMtTT1n2exkG5lScDNqrfcEMxFpXY23K1BYPGTgu1JoAFsZ1uZhBkogM9R7C7NvD2\n",
              "PVEYT4Iqkwx/KLQMCRAWFVxLn9rVCPHBvC/9AwyQq4FwB6pxXBwoBMkhAKsWq8MEFFH/KY9FwdJ1\n",
              "7HXLu4Lif2gOde0Jpzw25hsCoLIS0bQpLgWLLonpHYPbxQqvNjoJJP1ODYVHPAUGrz6/glMkARZ2\n",
              "YaJQGNItK16Lewn5TxrnjEe9ItaxCAF6hQELK3p3NcsxDHkit9dxMwNKj9EEFjUyoGcbjyhlC3I0\n",
              "1JQLWwrCW8rZ83rBHqffndUijg7+0rtwQ7d3vvY3x7xOpI1q1yWlWPbjU28q5dO7z/GL55+p7MQN\n",
              "AEJPV2JrWnC913kdyMtJZnrsr//ULesJHHTKVYBYHvWlS2WSsZHuyMEZSw4iqaeXQoyI0BFTglwb\n",
              "BZy9kzy6VwlBOP9tfWhkWVD0a3u66Vv7a9O/+G6haIbXCnuA/r0fkmKl4D60PHtMzdAb5CqOyTrn\n",
              "8/CTWCQRRa+2l8G8ZtWXt5JkYKQWBxZ1vghwdDwwJjuxB6EZmrJOJHs1yOHWcJ6Og5K1IhDkieUm\n",
              "JzSwLzT7O81Yggf8fWSYq/r+6H0VgL212MQJtyGDcs7SO7USldkfUbAAAANdQZuySeEPJlMCCf/+\n",
              "tSqAAOTXnIkACtkBVvS62Do9hckO9DEAfHWPGCuJ1Jj01A49JCk3ak5mUXyK72Ng/71p6ofXXBZO\n",
              "1YZ2hvZ00PZPE6/18givajseDk9FC/ZQjLFG82XSq6s0fLVXfPvf1KakEg0ajd/4Hh6ztuFp+oHL\n",
              "bqDYwYeLthUZeAYktaGIgFm1dhZnHXxUrAaIRsrLupvqA6g1o0GrB0EEQTCJAcDR4TivlZ3Vgk4P\n",
              "jlDYeibkS1t4Fl+5Zow5iOyVnhX9tHRYSTseqBXCqA9qlzUMo3xXyqhtTo/pfVvS+k+6vXoIJmKO\n",
              "+a/Lo37KYCxoW5CrnTQkCHSIbhL4IgyCBkoOnxSB1jPnVeUpsyLPOrQ8KttPh+BTNHGaB3b5NpR1\n",
              "qifa3TeHWLLkUmcVLz/XuwW6yX8xowRu+XTXUSPNtpyeYUzP53VIw9gRY86NkNUS9GzD2i2EW3oD\n",
              "9nlgvl6BmkaPROJATeAGSj0p5vFmrvhAnAkopEIjtedkEmFpEpiQVJhVd6IAxIVcP9tNn1h9S6fb\n",
              "Mb3FqPN2adagd0nWF+SAF3zuKi00oNd3aIB2/vpJXXmIY0js/dm2bkPbXaYBhyLHWFBAW3EieZ7l\n",
              "l4HEHdVNy/87+wp1ach9tY4WoYX0+Uw68gubKHyDb17i+MeKw2XWk2WB6vUuXJrG1nWfSZyXRLKq\n",
              "9+2Ai+tI3a0hn1XMmzSi0Z3JtIZpg4SRLsk6IXcpO5/YktK8JaYvdAVDJ3nbBN9hlVjZKY+RcpUd\n",
              "AzwfU54q8VZWtVHfQlkEWtShliDzdUlwmD9d9aLjE4Qv+dgMii0+5R4QUookVbZzF7cAmgovTyP/\n",
              "8KZiEiBPrF5ohj64WOoO+O7WtWwEDXezXYyKUeOXXMEH4gL+KU/TG249IS4JbhwhsC6YJUdnX7Nw\n",
              "5sfYO3FSEvBk/oyTZ/LpeK/hzx1Iy4ayZtFz8i+SgOdwBkjbI9KlQHNJ5TiXqzBp/yOtWtUnaRjE\n",
              "cyDX5mFbbdnOjxlSM4RtfJPfwIubMHUWmhGW85yBgqVu89RR3RYL1sOccsUFHRqxnpQxCvhL+eHV\n",
              "nYW8NXfWhU51K73C+cwTQuuEqR3xfxNpxGvyR6ZBX1Br6VjrwYZQXCHDCUPzH/IMgshBAAAEPUGb\n",
              "1EnhDyZTBRE8E//+tSqAAOTAedtAAqou26hPz5fclSbP3uW6ASzq0mDQs9M1Qyk7BaDiDVr/Liiu\n",
              "qJ87IEIMjAm6PT5c1oQG7hfzFHnMmupSrHlg8zag+EQ7LoTZiOu42p/RhexKWqlMXUW5OJwn7jAC\n",
              "VZ9+/yNWFD1Ysfym4VKll8dU7n1UzCFQO2+bUuWvnVO3i/BXZsRLx4JXuOEkvmEqaoFnh7z9atNM\n",
              "dI5iwF6wkqcTKG0Sir3J+mW0wC+cQbmn/hwETtN0gzhCTAouE5DME0pO7AFJ4b0q5f5QJXN0kV49\n",
              "wmMlsyKLsmESnilty33QGGu8x0z/7tP+OarMWSDQwy+6/8X+sHDrS47/8p7Y7xGmIhiWfSl+hN8f\n",
              "bd6keH24aai4nhH5hzOp1MwMwOkVo/+sSJHjq8pRIBVFgnOrzZDBncEOkntUNqXiY/GHUKQjDmIU\n",
              "vfIQYym44XlsSJbyM/PhSswQ1EGh2sB3Ucf4DQSZxKThiOuRpKuFMnRUkNJtHU+UQRcOGUNMqllY\n",
              "PFBS5pCUOcH3dHI+bu+r7J03Gt9TxUE6lej+WX5RqoEiFvDgi8YUeA1aoJ69V6i7uwT+fpHBmmOZ\n",
              "aN1nJV4Gq2BHbRyPUhmiQ8cq4x/3WxjkCj/AcdNZDjhu73j6Dd/Q/34/LKc+P+i9X+BCAjLssUKS\n",
              "9T9U2jrabCENB1+z8kPU35Nr74INm9xj4O1cnbE3RWSVNPjVK1zOOYkH3UsHDGW+HcdHxZpu5cIA\n",
              "KDSghHmi8u1WsGbbQlKNxsu01FFqBqzY7hvHibpjLERdehTqD62S9oLOeoB43c/Ucem+vk/0mON7\n",
              "coH3r6h/Rc1bWrSUfk0+3clwzPWCS1X41amSdYRK/Rgb+jKJ2Z9ft+693FZaB47jDpIyLeeXRqjz\n",
              "MTr7GofuLbzHcguJOlQxkBjNWZCq1qEk+p3Q8XEkG+LjhsfnUuxZEVmZnzuIfQ4n3z20SGGgkzHI\n",
              "N1d3wrphfLQvov8w53skxvNoQtFBn4MddBgAbKomyKmaWMgVoUCx+xsHLUksN67SuHgv6dTNZ7kb\n",
              "1czKE2POGB6TGz5PwguvuT1lASj3EKnBQFyxqTM7gFxpDnXwDCd8dw1CnVdzXNcp6vTJNbrP/X9L\n",
              "Vk5tfhH0RV4g7WVkY5xDpR3FvFap63cWQI9pZdMBnsW7GIz+Y1b/7eWYr/lkzXP1eNMzmUKN5iWE\n",
              "5+REbxMRc/1QfGi1TE3HYFjBmIqFBZcb1drI8bk8zm1EY0/fut7j/6I1KLyaOWNqhBKptyjy+aE9\n",
              "WPlcYqzBUtLRBrVAktuZkZ+hkCN4a9wseXCWgBxCxI7MgAP6cNy7jJZhort1KCDjnl4wK7BmO8KT\n",
              "VixOmDwg0MT2/TZAik5WmHYOzD5Fqp8DAMVGChEUHLZ/pDa7E674u7WU1PGcc1FzGi1dhOmbllfI\n",
              "AAAArgGf82pD/wACdioZpysAHzpGj49KG17/nQqs5GUZyPk9llmqsaSoJiFawfq6k02kT8H3wxGD\n",
              "gupaMf6iRazI/ILRGCuqYQibRbW0cDbSnlNov6mroqhOTRh8NIUx+8JbuABENQP3/hj9eVCNIHhN\n",
              "M6wjyEl8fBjNhHP+ZeSxw5lsDPP/vr3Cg8TpCAEEjcKzcZa3O78SsXkU6ehuikgt8TvLmoUk5UAA\n",
              "D1DUd00JIQAABJpBm/dJ4Q8mUwIJ//61KoAA45yXV38hAAsPorpsrKBdWUnmOZXHU8cLwRVCKZEv\n",
              "yFVkJeO1Quzh9qDcEKCJizHCji4CTAu7T/iv3i+C1fe5iV/Ma81jKHE75t+Hwa8Q4Ok68RqIhM3E\n",
              "Ds1gSPncr7wJuOPJF914YXKQD8hxrfUsAKrHUDsX/fYP856sZZ/SIgM5kBWb6FL7ro7AG4dtILhV\n",
              "op7twD1qglLfy+SHsDJL6OVoSCJoz6Y/0pxECBeT7KRfj8hdY+S3rqZrV4l7/44GEjJxWGwDikBX\n",
              "Low6uCtDQSR2w6JN+GKr4lP+k6ZsvS8Fe0lhB1ae9gVkqwJ1I0R1QJY/KFCZlbUZLaHKSLei2w9Z\n",
              "gIpmkHYrEzsE3dLtSpC3SDb4mx1nPrgfbdlFjw901iuUL0hRU7zUMJ41lWEILqpOxdJmQXD6xYgT\n",
              "xcRRaug5Y0Zfzf9ukGJcFuEmVyxpkVZ+iOy+XAzs8UjcbG3qCyPYVVE4HpD5sx4/6CBHWFzEBil1\n",
              "Xq1/BuK3oUW/eNXu1sM1uW69zAEFOLdrpIHUH3TS3MnzrR0FRVvBHvzN7OnAU/59wXRGVyC1qETR\n",
              "pvgXUdXfSvYp4vuKJSUZotMcYJCDWexdIH1z500lOj4ge9DrnrRcigdFxkn5mCnhCE7Cy8gUqY30\n",
              "o1qz4d55wuKs/YNoR8MgZfRPBUreCHjRSKpdfONkNAtOLe1KSsEv7/iAt0e7XnjJjCXgNts0Asem\n",
              "hykVWpxioumfQXxPgVgwAv6bLR+Yk1mx/9yg7PdyVrgn4IkbLgKoYXOwH8xDsawUcXX8/0bdh/uF\n",
              "qp57hm2670bnHJqV9hkgVZZX42kVXqUcU0gDkbzPJzLT0mRmTCtmkI+1XMZoGB/Lagf2aVgzKcyB\n",
              "Mw5csGXoHrqddFtvN7b5DBpe3e8yhKe16XGArm2N23CvfxMh4DMxClZ0dNDBBNtsDTkniIKU80GN\n",
              "F32bDnqV5y8LeuLQCrdsAO7/FCrqxOnet1EEt0sZqC3elVa4AhrIsdxKngEHYIiG2Jar8hXIlXV4\n",
              "AyA5ZjRz12DAWSwHz7iH/5X4p1GDz/gBkpOMC1Z4E7+37sWourRVep2yDTnshkR/8U9uX4cu7zBI\n",
              "oicc8phsaANpsrPu7ZlIX0HgM7Iv4dix3EVmsRFlUX3/HtZaD1YoHHIlvKV950n+wZovz678Pzqf\n",
              "ZDNcX33dkXaxnVaHRlxr36IgKt/OAoTvWE1KeaD2uvYNIXPrgVCuX6tyH0MkZRgIKLW0ukwuqGGy\n",
              "i6kFahhbHjhokQb5/gSt4Wuc1wBxOHGNcjd/cr7ndtLlyl0oiHj4TAbjA3tBI5ifvFXHRr96cX/K\n",
              "fKHOSxSJiReKpkSVpqrvuK32AWBLSgOKCopJDn0QWldYZxLhr9/eTCGaS4MulzMcHUMvIpNNW3XZ\n",
              "6w82fQjbLMPqHqOXM1y/FI7kOODLzgz6HZARfLqvBtQNArm7KSd//pwODFvM90jg3l9qjqPNl6ry\n",
              "t14Ejlh9QsVBfZZV9+ueP1N8wcGoOBc9odCFCTPycBHzGT1ldBN3Gq3pvwZImNnNwQAAAMxBnhVF\n",
              "ETwQ/wABGcjoKARIAS9N9TaF0oGhBvmNwJs9H845002mRDyuoPzgdkrzmhfZdW/smPdIpeOhByVv\n",
              "0sWc8lE2Khm2S6zAY3oXfYKCGjAsSKK/6GqtXLZuyq10BBLkAm7d43Wmijt2mSDljtbCSOSCFN4E\n",
              "OAg+cdLLmPrnegI70AIe+1zXChoYZclfnjwBL+XmJiF4El6/hForvv1EEsy2/ROmMOMD/Ds0WXcr\n",
              "DBSex80zPO4CkydAGbju26da0Kbevfl/NHW3KPwAAABLAZ42akP/AAJ+IuACbKCAqU93tsQ03UQN\n",
              "1U28O0h1YqjLT5I/dyAlgHGh8AvPe69Tmmh/P5SpclWdTWnHTlGs0Xox6yOq6t0weHfPAAAD0UGa\n",
              "OkmoQWiZTAgp//7WjLAAOkh9OAxwAAOM5M5GqIXL5D6O/h60rVuKGlEECW2NXNL9i0T+w7bVwsL1\n",
              "vK4E8pVXRF7N4P4gD51I57S6/uC7OkPZMLokTkcuj2AQ8ffM5jU8umbpMvo/3gCJjxT6w+I9HNwm\n",
              "P/4fwmQWfgzrXoAn4i9cgXHTN1uael4d9io4xBLH8Euu0w9ucVMkb+gqgjLiQgMxqA3krLP1ny7a\n",
              "srtpl56w7jaqwxx2JhZxrTeaQD0aaND8STXSWtc8udQx/HJYve8V50X1aBVa/OnjdyBkLqiJdcU7\n",
              "XpDr13V3wYNeUKAD8x/K3Aiw4mGJBOYOEFU2lwWmaxF3UarGXF6/ZE3KzJHgLVs0wfock95+L0An\n",
              "yrM/BJOhutGHs+twrAt1kTZNHHbsyGmpM/1Fto85892GtsCCs9SVZ1DoXhnH8M3Fg9FFQfmtad0Y\n",
              "TpZxu4vR8eMewDVbWX1eR/T1uzeW4pSN5mTOubcP1hWrK6Yo5628Oop9d7Wp4PtguH7mWTe37o+M\n",
              "R8hLqdZ0RTIv3V1T75rw8QQ7Yunto5RPbFTKDBy+VVZ3KBPMpGmUV3NZTvswzVEPdGWtTv0uTG1n\n",
              "kllY6lTgb0i5H9mxNcfKLKEQhHfrTYZ35OXFLHMvs6ERZH38/WIFSUG0FGFOlrS0sLyj9gkw4i1O\n",
              "bcQtDm4c55IZcshIOuXn+9jsCjaerWZFxRRHoejBmsUlAztP37gb+uEWxetGp2Or0U/TtNDBfY2E\n",
              "uI3j/jTXf9/N3yEARRupTCTjX6wRkeohClG/eE/KFqzKH+gy6ZVuVv7LcsJVkez5IJGR1lHUlBKN\n",
              "Jqg29m0M5ruru+mQPFEj32ymmdqoAjIPS0DibfDpojyYR+/irPvVUUXssyMiKP7wr9r5K+aNwKwL\n",
              "4v7kKTt4/+1x33ykmIQn6RiBQ2g3vP7o2o05gszt3w6fPhzmgsJBwQGgbJxGSgC+7dNekHtd6lji\n",
              "6cYTkNsz9dObGdhK788IyNYB3sc2NfrucBhJzXTheep8vHuACtPjXPjxWOs21FodIHRwKmmZDISa\n",
              "rEPtZfymnWbOLiLIy535K3Y828RJwiOVxJuPmuNn3tNZtxeDIp6uyI6M9HwSoRs5ii2yUTaOc+bq\n",
              "biycNSGn5+fJ7no65vDpoPYzTnk2kI6aQVEKCNJxXVX7jlSLZG1fS7gxtf6EkfmHVc7o5X4F5/mc\n",
              "MJ1JCQSPWlIb78NX7VMteTzaEBzr9NaADyOdnGkD7kzH89ujS7+eFGTU8IRswoTDUgXp0nH8QzEu\n",
              "rifz0WrpAAAAc0GeWEURLBD/AAEd14AA8ZyQUUDylbqYAAqL9o/7Qr+UC7RsLcpbJOgHgnuwZJem\n",
              "8H8/EdBeEllJIuS1rrmC/fqke0bJkf7wEpmEJUKWMwxOcaTT1Da83xNiLZAuNsfhWLJMZrocCr3Z\n",
              "+OA6ZVBtRE6Ea2AAAAAmAZ55akP/AACGwbSno1qrrhDWky9SZaLkWE0Lf3EL7YgMht0WVd0AAAPA\n",
              "QZp+SahBbJlMCCn//taMsAA6SH2Ux0jQAcdw5dXMVvI24TX7L+1ayEra5OOllfv22JktFGZtqTeM\n",
              "wZKr3p5mH4Hk0sNoC+HkD5qPqlIaxM8vpwNQvp9okFXVKIazT+lTa1LLepX3n+euxKr6cKvMEWnq\n",
              "VF/V7WAS+t2nn0dG070JQUQ/D36sW7VTvL4hLcXDgHivK4xCtGbMdsmInbnNbxuF3WWJOnwhAsu3\n",
              "H+uc+SqBWKPEb93L4TkZObXZyiTNooUzmqSA8lIgfgMfCABhDf4+Hl+ck9ECoTHp1AK3IGR6JL1c\n",
              "4r/cvgPsT/QUHfBCkkF2vcgVbUrzxB6OeRqLwI/7OPpiJaUarm8cMnwMG74Pnt7t2xsLAUBZb+j7\n",
              "90jINMgf5xNyeX7xXoOa7UNxJmmEk+vU2Vezw9rzPb6g3EHrXHR3uymDa9T8U0y6SxEWtCVKnWV8\n",
              "yshxZzokwp30Amh6gUFap7DdY27Q/sVKSxoz5MhYJQIf/tUQkq4OamfwWXXlCtKF5Tg4l9qh9jqo\n",
              "/NoX/2PjdeCeRLlf0ixJoecvEm/WoUIiGRA+I9RBawSUFvXE0W400qg3++Xp5UNkKzX0bdHGeP/2\n",
              "ejW4PRE+s8BUKvMUHlzxuIGH4uMxwrbHBv4+5Lcd7w3s1hXwHScwSS/AuDBT1wyRe/98K5S99pnC\n",
              "kh2XKladPEXoKCDY44L01U/XlBCL0sTs67scTIXctvadHPa7iyZ3FtapNIP7+CkqeR06zUgMe7X8\n",
              "983WS44NLlszYRGgJ7d0lWbsHRG++C3H3i1X4xeLbrQ3MuoQoC95t6LUVYWHg6OnjbU5c66uMpcA\n",
              "8lyJLus5YrPy+qkHnMl0/CEUiVvmmSJ88saZIOGwpDwSBwTDQdZrqyLZ2LG4Bhg87A2csO0Bf90k\n",
              "Z0r4WZjammMPnLWLmL00bbxjPeT1NUNreADpcAFyZOlEzytsPRJ0UPYPouyj/zaO30MZKUCqsoCf\n",
              "db88XW5G2ESC3tgoOhmWuM6ogL8/VNwDFahOmEK/8LZqDqGdZNe2/+HxeWakYT8Lrk7rh4hmYuTF\n",
              "0YvriwmrJ+IVI1X2bE8Vk2nedV76cuP62/IMKiYpwVuz8b4gV+M7e1VFMIGdsssIUYpzBN9yiDh2\n",
              "QokxOTiZi2Fr3hJOp9eS5GgAUFyxlIPY38qSDANLibyhGguZIgw5VAVLlH3F6F5fx1CUkUdLiFHp\n",
              "I8C9qmHAiug54LrzrWYZn8YsHwK6khAXF1WdI2F1AxaAREfRdlvq/67Ul3qimpXwAAAATkGenEUV\n",
              "LBD/AAEd14ABHCk2zxl+pguyqkAKP553aviqupuLhOaJBi6AhrDQPUrwxIT914GLZ1zzTGWyQd67\n",
              "Mtp2aNS61xmYJRhc6lTM6QAAABoBnrt0Q/8AAR2M0TYtWrVI31Mth35kdanD/QAAABQBnr1qQ/8A\n",
              "AR2VoH8nqWynRt2R1gAAAntBmqJJqEFsmUwIJ//+tSqAAOOb4ge3QADj5XvOl8S6LKinVAv/Wpg6\n",
              "vYtPI/FQjw1HYIQ7fOEjS/an5LIWjDRgtG5MAtMD1ofC/TVWBfWpEVGhh+q7xHWStlN6BCfWVF6+\n",
              "U1juCU7Cpxg3HR/ODnujohX4g3KqbjbGPsKhRha3uuLinE7R68mZUHc5WqtDmRpCkdtetJYlB4sU\n",
              "4dTIWhwm2Rn/z9/MqxGSn3LCIiTAm7FK/VHPMaOkcWPIG9EkW7JyRl3uyILnpssKsgNCom7NPPjl\n",
              "nEdmm6G10inHcE6RkSofsfqwCGseIxzTr3pnWEXKWxU920wLTibmeP7IOk6J7FK4hEY8iWfgQVlT\n",
              "bviUXHGNy1My6W4EczGq5yMzExiTmbLg+QZxPYhdgyM5m3pb5CFJUd0sBnAj1DsAKY1JE5WTU0DW\n",
              "NbVI7mQgsgqZ09ImBkgMNPwNZle2479YvdWBPRP3IXsOXPHZjeEPjfbniXZd0j9mWenyxT/dnpFR\n",
              "XhiPVS+VC9VkRWrrjsYKpOjy+LRWLrOBdlfDzqowDnZyYuWkG3OI2u0iDDEW4ylaMMOi5lOpaqTK\n",
              "7QF1CyQdwmUvUPJQjFVe2RoilTESJrv2xwh9kvySh72ERpLNrrbS7aUd55BSE5xjArUn+rF9MJhE\n",
              "iGCboPrxju7O3nzghV9BvlX7L/YaZT+9FEYycn/rEN/PO+WQHVqEsAX5l4bT6WEIR7/dhh5cssth\n",
              "qNlHpSoklyc4pBtYC/SOg/yhiGt3cXwlXaBsUhjhlwtCg7XnfPaZnE/G3fkBGG+l2YvKBOcPpM1/\n",
              "MvAu6TlZIbLdQidpMgtnlbK8kAYugxr9gAAAAB1BnsBFFSwQ/wAAfvLNzU8VK2DK5/2Wzlh46ek5\n",
              "4QAAABABnv90Q/8AAR1cqLygBylwAAAAGAGe4WpD/wABHYNnPZi3e+owg+2VuPQigQAAAe1BmuZJ\n",
              "qEFsmUwIJ//+tSqAAOPC+wAjHFHIfPQzqHLlITwXVBX6TNQ25Pvbub6Utt03oNE3PfjsbsjIjXZt\n",
              "y1LTjRLQ+qzyv9pz8N5SWTs+uFU4HBzKzJ1osAU7+IUUKobn3Ucg4yh0zbjEELudDwDFRzn1DTml\n",
              "UFPch+BcBxN3yH9qw7i4RBa3i3B3LpTX0ZOJmxS5sxoBaQtgGqE4BKKTDLAzFEzlRnxAzvDdXjQ9\n",
              "aScRnYH7xcoq9/GbAtZW1Dqc61hWafdbaMwKY305bhuW6jQsTgnJIUm+dgzxHTfxhJ3JLKLdvDZ3\n",
              "9pw1MCtSDCrAfxKdp6AJew05f5MjsmSwphB7g9lDPbtD78BNVWfm3Fdw4DRwT2AarvBcyu0iyUio\n",
              "9I+c5C994TAG/Fapdh873xxTB+5vtoctALLmHPc2+3dpGu7oX/o34gKHxWe0rBK66zDfPdwJuK5G\n",
              "dX7x5KmliU8X0tBvBfZs8N50/AFu0428hfGK9FIkNrgPxoGccujvcyoafePWQ95Y8Z+SPDOoSnii\n",
              "padh72CXczqVpLqxAzLLxcu97ecBMNCt5j3X6ZBa/yh3SVWC32YrzUdFzw2WOCapdeTWfh+d8vRT\n",
              "ryykOn9P2Bhlvo0mI80uduWRWLkrR63ZbjNnCYvTVEWgAAAAGkGfBEUVLBD/AAB+9U05BlNweYZ0\n",
              "26QIAczhAAAAFQGfI3RD/wABHVynUhdBrxGuraheQwAAABIBnyVqQ/8AAR2DaJsjWrXN0OkAAAEa\n",
              "QZsqSahBbJlMCCf//rUqgADjxCBgA415XsmWBh9BJhz7CwfYhvxatsFxWhf0tE0ymo68YUzMb+l9\n",
              "mja1PILp/hObBeScxk/eUwZ8jJ/F1PfhPTKqyaExEDDHb1h95raeJMMSGpLyjzGO9+Eh87PKwWVM\n",
              "ZmyfZyTZwEGQq3QKnDdVoAjeUonRVUQQhu66i0plpV7yWAIVsZ/0IzO/y871moplGcvf6pO8/ELz\n",
              "KYfON6LqLgs8Z+wehKKcZ+IwE38TsCOz9YXXLmZtt/IPxuVVg8RtHs0YD5FgV87YMqsqO1ppTbkJ\n",
              "qNYcLRus+D1XS+CY7M+2UDZ9X2CTbMWICyVq00yh9f9KNfW215/WbEHWLkTvf+zXO2Itr7+BAAAA\n",
              "FUGfSEUVLBD/AAB+9U05BlNweYRJSAAAABQBn2d0Q/8AAR1cqVBAtWk3K4dolgAAABUBn2lqQ/8A\n",
              "AR2DaJsjWrXOIr1hs+EAAABsQZtuSahBbJlMCCX//rUqgADjwcHwACt55xgAqfvc6XdbmJs+o0DD\n",
              "QfgPObXllHvG+FMEnzb2/MVbw9YXhK3ELi2yooz/iqfLaLHsDOb+qOIitIH5VU8pkBsNdIOBOOe7\n",
              "6d4ZQSgzJdutcRW0AAAAFUGfjEUVLBD/AAB+9U05BlNweYRJSAAAABUBn6t0Q/8AAR1cqVBAtWk2\n",
              "i48kupUAAAASAZ+takP/AAEdg2ibI1q1zdDpAAAAFUGbsUmoQWyZTAh///6plgAAAwDwgQAAABVB\n",
              "n89FFSwQ/wAAfvVNOQZTcHmESUgAAAASAZ/wakP/AAEdg2ibI1q1zdDpAAAFTm1vb3YAAABsbXZo\n",
              "ZAAAAAAAAAAAAAAAAAAAA+gAACcQAAEAAAEAAAAAAAAAAAAAAAABAAAAAAAAAAAAAAAAAAAAAQAA\n",
              "AAAAAAAAAAAAAAAAQAAAAAAAAAAAAAAAAAAAAAAAAAAAAAAAAAAAAAAAAAIAAAR4dHJhawAAAFx0\n",
              "a2hkAAAAAwAAAAAAAAAAAAAAAQAAAAAAACcQAAAAAAAAAAAAAAAAAAAAAAABAAAAAAAAAAAAAAAA\n",
              "AAAAAQAAAAAAAAAAAAAAAAAAQAAAAAGwAAABIAAAAAAAJGVkdHMAAAAcZWxzdAAAAAAAAAABAAAn\n",
              "EAAAEAAAAQAAAAAD8G1kaWEAAAAgbWRoZAAAAAAAAAAAAAAAAAAAKAAAAZAAVcQAAAAAAC1oZGxy\n",
              "AAAAAAAAAAB2aWRlAAAAAAAAAAAAAAAAVmlkZW9IYW5kbGVyAAAAA5ttaW5mAAAAFHZtaGQAAAAB\n",
              "AAAAAAAAAAAAAAAkZGluZgAAABxkcmVmAAAAAAAAAAEAAAAMdXJsIAAAAAEAAANbc3RibAAAALNz\n",
              "dHNkAAAAAAAAAAEAAACjYXZjMQAAAAAAAAABAAAAAAAAAAAAAAAAAAAAAAGwASAASAAAAEgAAAAA\n",
              "AAAAAQAAAAAAAAAAAAAAAAAAAAAAAAAAAAAAAAAAAAAAAAAAABj//wAAADFhdmNDAWQAFf/hABhn\n",
              "ZAAVrNlBsJaEAAADAAQAAAMAKDxYtlgBAAZo6+PLIsAAAAAcdXVpZGtoQPJfJE/FujmlG88DI/MA\n",
              "AAAAAAAAGHN0dHMAAAAAAAAAAQAAADIAAAgAAAAAFHN0c3MAAAAAAAAAAQAAAAEAAAFoY3R0cwAA\n",
              "AAAAAAArAAAAAQAAEAAAAAABAAAYAAAAAAEAAAgAAAAAAgAAEAAAAAABAAAgAAAAAAIAAAgAAAAA\n",
              "AQAAEAAAAAABAAAoAAAAAAEAABAAAAAAAQAAAAAAAAABAAAIAAAAAAEAABAAAAAAAQAAGAAAAAAB\n",
              "AAAIAAAAAAMAABAAAAAAAQAAGAAAAAABAAAIAAAAAAEAACAAAAAAAgAACAAAAAABAAAgAAAAAAIA\n",
              "AAgAAAAAAQAAKAAAAAABAAAQAAAAAAEAAAAAAAAAAQAACAAAAAABAAAoAAAAAAEAABAAAAAAAQAA\n",
              "AAAAAAABAAAIAAAAAAEAACgAAAAAAQAAEAAAAAABAAAAAAAAAAEAAAgAAAAAAQAAKAAAAAABAAAQ\n",
              "AAAAAAEAAAAAAAAAAQAACAAAAAABAAAoAAAAAAEAABAAAAAAAQAAAAAAAAABAAAIAAAAAAEAACAA\n",
              "AAAAAgAACAAAAAAcc3RzYwAAAAAAAAABAAAAAQAAADIAAAABAAAA3HN0c3oAAAAAAAAAAAAAADIA\n",
              "ACnKAAAGtAAAAoAAAAQqAAAEaQAABqsAAAKNAAAB+QAAA9UAAAZwAAACdgAAAZIAAAGIAAADggAA\n",
              "BOMAAAFmAAADnwAAA4UAAANhAAAEQQAAALIAAASeAAAA0AAAAE8AAAPVAAAAdwAAACoAAAPEAAAA\n",
              "UgAAAB4AAAAYAAACfwAAACEAAAAUAAAAHAAAAfEAAAAeAAAAGQAAABYAAAEeAAAAGQAAABgAAAAZ\n",
              "AAAAcAAAABkAAAAZAAAAFgAAABkAAAAZAAAAFgAAABRzdGNvAAAAAAAAAAEAAAAsAAAAYnVkdGEA\n",
              "AABabWV0YQAAAAAAAAAhaGRscgAAAAAAAAAAbWRpcmFwcGwAAAAAAAAAAAAAAAAtaWxzdAAAACWp\n",
              "dG9vAAAAHWRhdGEAAAABAAAAAExhdmY1Ny44My4xMDA=\n",
              "\">\n",
              "  Your browser does not support the video tag.\n",
              "</video>"
            ],
            "text/plain": [
              "<IPython.core.display.HTML object>"
            ]
          },
          "metadata": {
            "tags": []
          },
          "execution_count": 122
        },
        {
          "output_type": "display_data",
          "data": {
            "image/png": "[encoded data removed]",
            "text/plain": [
              "<Figure size 432x288 with 1 Axes>"
            ]
          },
          "metadata": {
            "tags": [],
            "needs_background": "light"
          }
        }
      ]
    },
    {
      "cell_type": "markdown",
      "metadata": {
        "id": "ey-fKpgyt1xP",
        "colab_type": "text"
      },
      "source": [
        "# VISUALIZATION OF ERRORS"
      ]
    },
    {
      "cell_type": "code",
      "metadata": {
        "id": "vVYVwIp9pnzh",
        "colab_type": "code",
        "colab": {
          "base_uri": "https://localhost:8080/",
          "height": 281
        },
        "outputId": "88089efe-94d9-487c-dba3-5cfedcadcd4b"
      },
      "source": [
        "plt.scatter(xtrain,ytrain,color='b')\n",
        "plt.plot(xtrain ,(m*xtrain+c),color='r')"
      ],
      "execution_count": 123,
      "outputs": [
        {
          "output_type": "execute_result",
          "data": {
            "text/plain": [
              "[<matplotlib.lines.Line2D at 0x7f8ef0759eb8>]"
            ]
          },
          "metadata": {
            "tags": []
          },
          "execution_count": 123
        },
        {
          "output_type": "display_data",
          "data": {
            "image/png": "[encoded data removed]",
            "text/plain": [
              "<Figure size 432x288 with 1 Axes>"
            ]
          },
          "metadata": {
            "tags": [],
            "needs_background": "light"
          }
        }
      ]
    },
    {
      "cell_type": "code",
      "metadata": {
        "id": "68AVH3XXt8qB",
        "colab_type": "code",
        "colab": {
          "base_uri": "https://localhost:8080/",
          "height": 296
        },
        "outputId": "cf7503f6-a8a7-4749-8b1f-fe24e41a0ba6"
      },
      "source": [
        "# plotting error values\n",
        "\n",
        "plt.plot(np.arange(len(error_values)),error_values)\n",
        "plt.ylabel('ERROR')\n",
        "plt.xlabel('ITERATIONS')\n"
      ],
      "execution_count": 124,
      "outputs": [
        {
          "output_type": "execute_result",
          "data": {
            "text/plain": [
              "Text(0.5, 0, 'ITERATIONS')"
            ]
          },
          "metadata": {
            "tags": []
          },
          "execution_count": 124
        },
        {
          "output_type": "display_data",
          "data": {
            "image/png": "[encoded data removed]",
            "text/plain": [
              "<Figure size 432x288 with 1 Axes>"
            ]
          },
          "metadata": {
            "tags": [],
            "needs_background": "light"
          }
        }
      ]
    }
  ]
}